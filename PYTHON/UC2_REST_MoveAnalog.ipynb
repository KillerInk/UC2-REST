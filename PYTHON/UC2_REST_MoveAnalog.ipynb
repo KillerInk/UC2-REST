{
 "cells": [
  {
   "cell_type": "markdown",
   "metadata": {},
   "source": [
    "# ESP32 Client Test"
   ]
  },
  {
   "cell_type": "code",
   "execution_count": 7,
   "metadata": {},
   "outputs": [],
   "source": [
    "from __future__ import print_function\n",
    "from ipywidgets import interact, interactive, fixed, interact_manual\n",
    "import ipywidgets as widgets\n",
    "from espclient import ESP32Client\n",
    "import time"
   ]
  },
  {
   "cell_type": "code",
   "execution_count": 9,
   "metadata": {},
   "outputs": [
    {
     "name": "stderr",
     "output_type": "stream",
     "text": [
      "\u001b[32m2021-12-09 12:54:27\u001b[0m \u001b[1;30mDEBUG\u001b[0m \u001b[32m[ESP32Client] Connecting to microscope 192.168.137.115:80\u001b[0m\n"
     ]
    }
   ],
   "source": [
    "host = '192.168.137.115'\n",
    "esp32 = ESP32Client(host, port=80)"
   ]
  },
  {
   "cell_type": "code",
   "execution_count": 12,
   "metadata": {},
   "outputs": [],
   "source": [
    "def move_analog_1(value):\n",
    "    esp32.lens_x(value)\n",
    "\n",
    "def move_analog_2(value):\n",
    "    esp32.lens_z(value)"
   ]
  },
  {
   "cell_type": "code",
   "execution_count": 18,
   "metadata": {},
   "outputs": [
    {
     "name": "stdout",
     "output_type": "stream",
     "text": [
      "1\n",
      "1\n",
      "1\n",
      "1\n",
      "1\n",
      "1\n",
      "1\n",
      "1\n"
     ]
    },
    {
     "name": "stderr",
     "output_type": "stream",
     "text": [
      "\u001b[32m2021-12-09 12:57:50\u001b[0m \u001b[1;30mERROR\u001b[0m \u001b[31m[ESP32Client] HTTPConnectionPool(host='192.168.137.115', port=80): Max retries exceeded with url: /lens_z (Caused by ConnectTimeoutError(<urllib3.connection.HTTPConnection object at 0x0000019B54F70910>, 'Connection to 192.168.137.115 timed out. (connect timeout=1)'))\u001b[0m\n"
     ]
    },
    {
     "name": "stdout",
     "output_type": "stream",
     "text": [
      "1\n",
      "1\n"
     ]
    },
    {
     "name": "stderr",
     "output_type": "stream",
     "text": [
      "\u001b[32m2021-12-09 12:57:51\u001b[0m \u001b[1;30mERROR\u001b[0m \u001b[31m[ESP32Client] HTTPConnectionPool(host='192.168.137.115', port=80): Max retries exceeded with url: /lens_z (Caused by ConnectTimeoutError(<urllib3.connection.HTTPConnection object at 0x0000019B555B81C0>, 'Connection to 192.168.137.115 timed out. (connect timeout=1)'))\u001b[0m\n",
      "\u001b[32m2021-12-09 12:57:51\u001b[0m \u001b[1;30mERROR\u001b[0m \u001b[31m[ESP32Client] HTTPConnectionPool(host='192.168.137.115', port=80): Max retries exceeded with url: /lens_z (Caused by ConnectTimeoutError(<urllib3.connection.HTTPConnection object at 0x0000019B55475C70>, 'Connection to 192.168.137.115 timed out. (connect timeout=1)'))\u001b[0m\n"
     ]
    },
    {
     "name": "stdout",
     "output_type": "stream",
     "text": [
      "1\n",
      "1\n"
     ]
    },
    {
     "name": "stderr",
     "output_type": "stream",
     "text": [
      "\u001b[32m2021-12-09 12:57:51\u001b[0m \u001b[1;30mERROR\u001b[0m \u001b[31m[ESP32Client] HTTPConnectionPool(host='192.168.137.115', port=80): Max retries exceeded with url: /lens_z (Caused by ConnectTimeoutError(<urllib3.connection.HTTPConnection object at 0x0000019B552421C0>, 'Connection to 192.168.137.115 timed out. (connect timeout=1)'))\u001b[0m\n",
      "\u001b[32m2021-12-09 12:57:51\u001b[0m \u001b[1;30mERROR\u001b[0m \u001b[31m[ESP32Client] HTTPConnectionPool(host='192.168.137.115', port=80): Max retries exceeded with url: /lens_z (Caused by ConnectTimeoutError(<urllib3.connection.HTTPConnection object at 0x0000019B551ADB80>, 'Connection to 192.168.137.115 timed out. (connect timeout=1)'))\u001b[0m\n"
     ]
    },
    {
     "name": "stdout",
     "output_type": "stream",
     "text": [
      "1\n",
      "1\n"
     ]
    },
    {
     "name": "stderr",
     "output_type": "stream",
     "text": [
      "\u001b[32m2021-12-09 12:57:51\u001b[0m \u001b[1;30mERROR\u001b[0m \u001b[31m[ESP32Client] HTTPConnectionPool(host='192.168.137.115', port=80): Max retries exceeded with url: /lens_z (Caused by ConnectTimeoutError(<urllib3.connection.HTTPConnection object at 0x0000019B55549820>, 'Connection to 192.168.137.115 timed out. (connect timeout=1)'))\u001b[0m\n",
      "\u001b[32m2021-12-09 12:57:51\u001b[0m \u001b[1;30mERROR\u001b[0m \u001b[31m[ESP32Client] HTTPConnectionPool(host='192.168.137.115', port=80): Max retries exceeded with url: /lens_z (Caused by ConnectTimeoutError(<urllib3.connection.HTTPConnection object at 0x0000019B554ACFA0>, 'Connection to 192.168.137.115 timed out. (connect timeout=1)'))\u001b[0m\n"
     ]
    },
    {
     "name": "stdout",
     "output_type": "stream",
     "text": [
      "1\n",
      "1\n"
     ]
    },
    {
     "name": "stderr",
     "output_type": "stream",
     "text": [
      "\u001b[32m2021-12-09 12:57:51\u001b[0m \u001b[1;30mERROR\u001b[0m \u001b[31m[ESP32Client] HTTPConnectionPool(host='192.168.137.115', port=80): Max retries exceeded with url: /lens_z (Caused by ConnectTimeoutError(<urllib3.connection.HTTPConnection object at 0x0000019B555B8070>, 'Connection to 192.168.137.115 timed out. (connect timeout=1)'))\u001b[0m\n",
      "\u001b[32m2021-12-09 12:57:51\u001b[0m \u001b[1;30mERROR\u001b[0m \u001b[31m[ESP32Client] HTTPConnectionPool(host='192.168.137.115', port=80): Max retries exceeded with url: /lens_z (Caused by ConnectTimeoutError(<urllib3.connection.HTTPConnection object at 0x0000019B555754F0>, 'Connection to 192.168.137.115 timed out. (connect timeout=1)'))\u001b[0m\n",
      "\u001b[32m2021-12-09 12:57:51\u001b[0m \u001b[1;30mERROR\u001b[0m \u001b[31m[ESP32Client] HTTPConnectionPool(host='192.168.137.115', port=80): Max retries exceeded with url: /lens_z (Caused by ConnectTimeoutError(<urllib3.connection.HTTPConnection object at 0x0000019B554672B0>, 'Connection to 192.168.137.115 timed out. (connect timeout=1)'))\u001b[0m\n"
     ]
    },
    {
     "name": "stdout",
     "output_type": "stream",
     "text": [
      "1\n",
      "1\n"
     ]
    },
    {
     "name": "stderr",
     "output_type": "stream",
     "text": [
      "\u001b[32m2021-12-09 12:57:52\u001b[0m \u001b[1;30mERROR\u001b[0m \u001b[31m[ESP32Client] HTTPConnectionPool(host='192.168.137.115', port=80): Max retries exceeded with url: /lens_z (Caused by ConnectTimeoutError(<urllib3.connection.HTTPConnection object at 0x0000019B55467670>, 'Connection to 192.168.137.115 timed out. (connect timeout=1)'))\u001b[0m\n"
     ]
    },
    {
     "name": "stdout",
     "output_type": "stream",
     "text": [
      "1\n",
      "1\n"
     ]
    },
    {
     "name": "stderr",
     "output_type": "stream",
     "text": [
      "\u001b[32m2021-12-09 12:57:52\u001b[0m \u001b[1;30mERROR\u001b[0m \u001b[31m[ESP32Client] HTTPConnectionPool(host='192.168.137.115', port=80): Max retries exceeded with url: /lens_z (Caused by ConnectTimeoutError(<urllib3.connection.HTTPConnection object at 0x0000019B55400070>, 'Connection to 192.168.137.115 timed out. (connect timeout=1)'))\u001b[0m\n",
      "\u001b[32m2021-12-09 12:57:52\u001b[0m \u001b[1;30mERROR\u001b[0m \u001b[31m[ESP32Client] HTTPConnectionPool(host='192.168.137.115', port=80): Max retries exceeded with url: /lens_z (Caused by ConnectTimeoutError(<urllib3.connection.HTTPConnection object at 0x0000019B55451B80>, 'Connection to 192.168.137.115 timed out. (connect timeout=1)'))\u001b[0m\n"
     ]
    },
    {
     "name": "stdout",
     "output_type": "stream",
     "text": [
      "1\n",
      "1\n"
     ]
    },
    {
     "name": "stderr",
     "output_type": "stream",
     "text": [
      "\u001b[32m2021-12-09 12:57:52\u001b[0m \u001b[1;30mERROR\u001b[0m \u001b[31m[ESP32Client] HTTPConnectionPool(host='192.168.137.115', port=80): Max retries exceeded with url: /lens_z (Caused by ConnectTimeoutError(<urllib3.connection.HTTPConnection object at 0x0000019B551F25B0>, 'Connection to 192.168.137.115 timed out. (connect timeout=1)'))\u001b[0m\n",
      "\u001b[32m2021-12-09 12:57:52\u001b[0m \u001b[1;30mERROR\u001b[0m \u001b[31m[ESP32Client] HTTPConnectionPool(host='192.168.137.115', port=80): Max retries exceeded with url: /lens_z (Caused by ConnectTimeoutError(<urllib3.connection.HTTPConnection object at 0x0000019B554305B0>, 'Connection to 192.168.137.115 timed out. (connect timeout=1)'))\u001b[0m\n",
      "\u001b[32m2021-12-09 12:57:52\u001b[0m \u001b[1;30mERROR\u001b[0m \u001b[31m[ESP32Client] HTTPConnectionPool(host='192.168.137.115', port=80): Max retries exceeded with url: /lens_z (Caused by ConnectTimeoutError(<urllib3.connection.HTTPConnection object at 0x0000019B55430F40>, 'Connection to 192.168.137.115 timed out. (connect timeout=1)'))\u001b[0m\n"
     ]
    },
    {
     "name": "stdout",
     "output_type": "stream",
     "text": [
      "1\n",
      "1\n"
     ]
    },
    {
     "name": "stderr",
     "output_type": "stream",
     "text": [
      "\u001b[32m2021-12-09 12:57:52\u001b[0m \u001b[1;30mERROR\u001b[0m \u001b[31m[ESP32Client] HTTPConnectionPool(host='192.168.137.115', port=80): Max retries exceeded with url: /lens_z (Caused by ConnectTimeoutError(<urllib3.connection.HTTPConnection object at 0x0000019B551AD820>, 'Connection to 192.168.137.115 timed out. (connect timeout=1)'))\u001b[0m\n"
     ]
    },
    {
     "name": "stdout",
     "output_type": "stream",
     "text": [
      "1\n"
     ]
    },
    {
     "name": "stderr",
     "output_type": "stream",
     "text": [
      "\u001b[32m2021-12-09 12:57:52\u001b[0m \u001b[1;30mERROR\u001b[0m \u001b[31m[ESP32Client] HTTPConnectionPool(host='192.168.137.115', port=80): Max retries exceeded with url: /lens_z (Caused by ConnectTimeoutError(<urllib3.connection.HTTPConnection object at 0x0000019B55575190>, 'Connection to 192.168.137.115 timed out. (connect timeout=1)'))\u001b[0m\n",
      "\u001b[32m2021-12-09 12:57:53\u001b[0m \u001b[1;30mERROR\u001b[0m \u001b[31m[ESP32Client] HTTPConnectionPool(host='192.168.137.115', port=80): Max retries exceeded with url: /lens_z (Caused by ConnectTimeoutError(<urllib3.connection.HTTPConnection object at 0x0000019B554AC220>, 'Connection to 192.168.137.115 timed out. (connect timeout=1)'))\u001b[0m\n",
      "\u001b[32m2021-12-09 12:57:53\u001b[0m \u001b[1;30mERROR\u001b[0m \u001b[31m[ESP32Client] HTTPConnectionPool(host='192.168.137.115', port=80): Max retries exceeded with url: /lens_z (Caused by ConnectTimeoutError(<urllib3.connection.HTTPConnection object at 0x0000019B55400FD0>, 'Connection to 192.168.137.115 timed out. (connect timeout=1)'))\u001b[0m\n",
      "\u001b[32m2021-12-09 12:57:53\u001b[0m \u001b[1;30mERROR\u001b[0m \u001b[31m[ESP32Client] HTTPConnectionPool(host='192.168.137.115', port=80): Max retries exceeded with url: /lens_z (Caused by ConnectTimeoutError(<urllib3.connection.HTTPConnection object at 0x0000019B555B8BE0>, 'Connection to 192.168.137.115 timed out. (connect timeout=1)'))\u001b[0m\n",
      "\u001b[32m2021-12-09 12:57:53\u001b[0m \u001b[1;30mERROR\u001b[0m \u001b[31m[ESP32Client] HTTPConnectionPool(host='192.168.137.115', port=80): Max retries exceeded with url: /lens_z (Caused by ConnectTimeoutError(<urllib3.connection.HTTPConnection object at 0x0000019B55475880>, 'Connection to 192.168.137.115 timed out. (connect timeout=1)'))\u001b[0m\n",
      "\u001b[32m2021-12-09 12:57:53\u001b[0m \u001b[1;30mERROR\u001b[0m \u001b[31m[ESP32Client] HTTPConnectionPool(host='192.168.137.115', port=80): Max retries exceeded with url: /lens_z (Caused by ConnectTimeoutError(<urllib3.connection.HTTPConnection object at 0x0000019B55400A90>, 'Connection to 192.168.137.115 timed out. (connect timeout=1)'))\u001b[0m\n",
      "\u001b[32m2021-12-09 12:57:53\u001b[0m \u001b[1;30mERROR\u001b[0m \u001b[31m[ESP32Client] HTTPConnectionPool(host='192.168.137.115', port=80): Max retries exceeded with url: /lens_z (Caused by ConnectTimeoutError(<urllib3.connection.HTTPConnection object at 0x0000019B555490A0>, 'Connection to 192.168.137.115 timed out. (connect timeout=1)'))\u001b[0m\n",
      "\u001b[32m2021-12-09 12:57:53\u001b[0m \u001b[1;30mERROR\u001b[0m \u001b[31m[ESP32Client] HTTPConnectionPool(host='192.168.137.115', port=80): Max retries exceeded with url: /lens_z (Caused by ConnectTimeoutError(<urllib3.connection.HTTPConnection object at 0x0000019B55575B50>, 'Connection to 192.168.137.115 timed out. (connect timeout=1)'))\u001b[0m\n"
     ]
    }
   ],
   "source": [
    "for i in range(25):\n",
    "    esp32.lens_z(i*10)\n",
    "    time.sleep(.1)"
   ]
  },
  {
   "cell_type": "code",
   "execution_count": 13,
   "metadata": {},
   "outputs": [
    {
     "data": {
      "application/vnd.jupyter.widget-view+json": {
       "model_id": "7ccc82de27e84ba9803ac14a083b892f",
       "version_major": 2,
       "version_minor": 0
      },
      "text/plain": [
       "interactive(children=(IntSlider(value=127, description='value', max=255), Output()), _dom_classes=('widget-int…"
      ]
     },
     "metadata": {},
     "output_type": "display_data"
    },
    {
     "name": "stdout",
     "output_type": "stream",
     "text": [
      "\n"
     ]
    },
    {
     "data": {
      "application/vnd.jupyter.widget-view+json": {
       "model_id": "d3001bb0886a4668a5e197d67ea5b3d8",
       "version_major": 2,
       "version_minor": 0
      },
      "text/plain": [
       "interactive(children=(IntSlider(value=127, description='value', max=255), Output()), _dom_classes=('widget-int…"
      ]
     },
     "metadata": {},
     "output_type": "display_data"
    },
    {
     "name": "stdout",
     "output_type": "stream",
     "text": [
      "\n"
     ]
    },
    {
     "data": {
      "text/plain": [
       "<function __main__.move_analog_2(value)>"
      ]
     },
     "execution_count": 13,
     "metadata": {},
     "output_type": "execute_result"
    },
    {
     "name": "stdout",
     "output_type": "stream",
     "text": [
      "\n",
      "\n"
     ]
    },
    {
     "name": "stderr",
     "output_type": "stream",
     "text": [
      "\u001b[32m2021-12-09 12:55:36\u001b[0m \u001b[1;30mERROR\u001b[0m \u001b[31m[ESP32Client] HTTPConnectionPool(host='192.168.137.115', port=80): Max retries exceeded with url: /lens_x (Caused by ConnectTimeoutError(<urllib3.connection.HTTPConnection object at 0x0000019B5541A7F0>, 'Connection to 192.168.137.115 timed out. (connect timeout=1)'))\u001b[0m\n",
      "\u001b[32m2021-12-09 12:55:36\u001b[0m \u001b[1;30mERROR\u001b[0m \u001b[31m[ESP32Client] HTTPConnectionPool(host='192.168.137.115', port=80): Max retries exceeded with url: /lens_x (Caused by ConnectTimeoutError(<urllib3.connection.HTTPConnection object at 0x0000019B5540E7C0>, 'Connection to 192.168.137.115 timed out. (connect timeout=1)'))\u001b[0m\n",
      "\u001b[32m2021-12-09 12:55:36\u001b[0m \u001b[1;30mERROR\u001b[0m \u001b[31m[ESP32Client] HTTPConnectionPool(host='192.168.137.115', port=80): Max retries exceeded with url: /lens_x (Caused by ConnectTimeoutError(<urllib3.connection.HTTPConnection object at 0x0000019B5540E100>, 'Connection to 192.168.137.115 timed out. (connect timeout=1)'))\u001b[0m\n",
      "\u001b[32m2021-12-09 12:55:36\u001b[0m \u001b[1;30mERROR\u001b[0m \u001b[31m[ESP32Client] ('Connection aborted.', ConnectionResetError(10054, 'Eine vorhandene Verbindung wurde vom Remotehost geschlossen', None, 10054, None))\u001b[0m\n",
      "\u001b[32m2021-12-09 12:55:36\u001b[0m \u001b[1;30mERROR\u001b[0m \u001b[31m[ESP32Client] ('Connection aborted.', ConnectionResetError(10054, 'Eine vorhandene Verbindung wurde vom Remotehost geschlossen', None, 10054, None))\u001b[0m\n",
      "\u001b[32m2021-12-09 12:55:36\u001b[0m \u001b[1;30mERROR\u001b[0m \u001b[31m[ESP32Client] ('Connection aborted.', ConnectionResetError(10054, 'Eine vorhandene Verbindung wurde vom Remotehost geschlossen', None, 10054, None))\u001b[0m\n",
      "\u001b[32m2021-12-09 12:55:36\u001b[0m \u001b[1;30mERROR\u001b[0m \u001b[31m[ESP32Client] HTTPConnectionPool(host='192.168.137.115', port=80): Max retries exceeded with url: /lens_x (Caused by ConnectTimeoutError(<urllib3.connection.HTTPConnection object at 0x0000019B55404310>, 'Connection to 192.168.137.115 timed out. (connect timeout=1)'))\u001b[0m\n",
      "\u001b[32m2021-12-09 12:55:36\u001b[0m \u001b[1;30mERROR\u001b[0m \u001b[31m[ESP32Client] HTTPConnectionPool(host='192.168.137.115', port=80): Max retries exceeded with url: /lens_x (Caused by ConnectTimeoutError(<urllib3.connection.HTTPConnection object at 0x0000019B553FA580>, 'Connection to 192.168.137.115 timed out. (connect timeout=1)'))\u001b[0m\n",
      "\u001b[32m2021-12-09 12:55:36\u001b[0m \u001b[1;30mERROR\u001b[0m \u001b[31m[ESP32Client] HTTPConnectionPool(host='192.168.137.115', port=80): Max retries exceeded with url: /lens_x (Caused by ConnectTimeoutError(<urllib3.connection.HTTPConnection object at 0x0000019B553EC910>, 'Connection to 192.168.137.115 timed out. (connect timeout=1)'))\u001b[0m\n",
      "\u001b[32m2021-12-09 12:56:23\u001b[0m \u001b[1;30mERROR\u001b[0m \u001b[31m[ESP32Client] ('Connection aborted.', ConnectionResetError(10054, 'Eine vorhandene Verbindung wurde vom Remotehost geschlossen', None, 10054, None))\u001b[0m\n",
      "\u001b[32m2021-12-09 12:56:23\u001b[0m \u001b[1;30mERROR\u001b[0m \u001b[31m[ESP32Client] ('Connection aborted.', ConnectionResetError(10054, 'Eine vorhandene Verbindung wurde vom Remotehost geschlossen', None, 10054, None))\u001b[0m\n"
     ]
    },
    {
     "name": "stdout",
     "output_type": "stream",
     "text": [
      "\n",
      "\n",
      "\n",
      "\n",
      "\n",
      "\n",
      "\n",
      "\n",
      "\n",
      "\n",
      "\n",
      "\n"
     ]
    },
    {
     "name": "stderr",
     "output_type": "stream",
     "text": [
      "\u001b[32m2021-12-09 12:56:25\u001b[0m \u001b[1;30mERROR\u001b[0m \u001b[31m[ESP32Client] HTTPConnectionPool(host='192.168.137.115', port=80): Max retries exceeded with url: /lens_z (Caused by ConnectTimeoutError(<urllib3.connection.HTTPConnection object at 0x0000019B554305B0>, 'Connection to 192.168.137.115 timed out. (connect timeout=1)'))\u001b[0m\n"
     ]
    },
    {
     "name": "stdout",
     "output_type": "stream",
     "text": [
      "\n",
      "\n",
      "\n",
      "\n"
     ]
    },
    {
     "name": "stderr",
     "output_type": "stream",
     "text": [
      "\u001b[32m2021-12-09 12:56:26\u001b[0m \u001b[1;30mERROR\u001b[0m \u001b[31m[ESP32Client] HTTPConnectionPool(host='192.168.137.115', port=80): Max retries exceeded with url: /lens_z (Caused by ConnectTimeoutError(<urllib3.connection.HTTPConnection object at 0x0000019B553B6580>, 'Connection to 192.168.137.115 timed out. (connect timeout=1)'))\u001b[0m\n"
     ]
    },
    {
     "name": "stdout",
     "output_type": "stream",
     "text": [
      "\n",
      "\n"
     ]
    },
    {
     "name": "stderr",
     "output_type": "stream",
     "text": [
      "\u001b[32m2021-12-09 12:56:26\u001b[0m \u001b[1;30mERROR\u001b[0m \u001b[31m[ESP32Client] HTTPConnectionPool(host='192.168.137.115', port=80): Max retries exceeded with url: /lens_z (Caused by ConnectTimeoutError(<urllib3.connection.HTTPConnection object at 0x0000019B55443100>, 'Connection to 192.168.137.115 timed out. (connect timeout=1)'))\u001b[0m\n"
     ]
    },
    {
     "name": "stdout",
     "output_type": "stream",
     "text": [
      "\n",
      "\n",
      "\n",
      "\n",
      "\n",
      "\n",
      "\n",
      "\n"
     ]
    },
    {
     "name": "stderr",
     "output_type": "stream",
     "text": [
      "\u001b[32m2021-12-09 12:56:27\u001b[0m \u001b[1;30mERROR\u001b[0m \u001b[31m[ESP32Client] HTTPConnectionPool(host='192.168.137.115', port=80): Max retries exceeded with url: /lens_z (Caused by ConnectTimeoutError(<urllib3.connection.HTTPConnection object at 0x0000019B55443130>, 'Connection to 192.168.137.115 timed out. (connect timeout=1)'))\u001b[0m\n"
     ]
    },
    {
     "name": "stdout",
     "output_type": "stream",
     "text": [
      "\n",
      "\n",
      "\n",
      "\n",
      "\n",
      "\n",
      "\n"
     ]
    },
    {
     "name": "stderr",
     "output_type": "stream",
     "text": [
      "\u001b[32m2021-12-09 12:56:31\u001b[0m \u001b[1;30mERROR\u001b[0m \u001b[31m[ESP32Client] HTTPConnectionPool(host='192.168.137.115', port=80): Max retries exceeded with url: /lens_z (Caused by ConnectTimeoutError(<urllib3.connection.HTTPConnection object at 0x0000019B553FACA0>, 'Connection to 192.168.137.115 timed out. (connect timeout=1)'))\u001b[0m\n"
     ]
    },
    {
     "name": "stdout",
     "output_type": "stream",
     "text": [
      "\n",
      "\n",
      "\n",
      "\n",
      "\n",
      "\n",
      "\n",
      "\n",
      "\n"
     ]
    },
    {
     "name": "stderr",
     "output_type": "stream",
     "text": [
      "\u001b[32m2021-12-09 12:56:34\u001b[0m \u001b[1;30mERROR\u001b[0m \u001b[31m[ESP32Client] HTTPConnectionPool(host='192.168.137.115', port=80): Max retries exceeded with url: /lens_z (Caused by ConnectTimeoutError(<urllib3.connection.HTTPConnection object at 0x0000019B55395310>, 'Connection to 192.168.137.115 timed out. (connect timeout=1)'))\u001b[0m\n",
      "\u001b[32m2021-12-09 12:56:35\u001b[0m \u001b[1;30mERROR\u001b[0m \u001b[31m[ESP32Client] HTTPConnectionPool(host='192.168.137.115', port=80): Max retries exceeded with url: /lens_z (Caused by ConnectTimeoutError(<urllib3.connection.HTTPConnection object at 0x0000019B553D7280>, 'Connection to 192.168.137.115 timed out. (connect timeout=1)'))\u001b[0m\n",
      "\u001b[32m2021-12-09 12:56:35\u001b[0m \u001b[1;30mERROR\u001b[0m \u001b[31m[ESP32Client] HTTPConnectionPool(host='192.168.137.115', port=80): Max retries exceeded with url: /lens_z (Caused by ConnectTimeoutError(<urllib3.connection.HTTPConnection object at 0x0000019B553D7A60>, 'Connection to 192.168.137.115 timed out. (connect timeout=1)'))\u001b[0m\n",
      "\u001b[32m2021-12-09 12:56:36\u001b[0m \u001b[1;30mERROR\u001b[0m \u001b[31m[ESP32Client] HTTPConnectionPool(host='192.168.137.115', port=80): Max retries exceeded with url: /lens_z (Caused by ConnectTimeoutError(<urllib3.connection.HTTPConnection object at 0x0000019B5540ED90>, 'Connection to 192.168.137.115 timed out. (connect timeout=1)'))\u001b[0m\n",
      "\u001b[32m2021-12-09 12:56:36\u001b[0m \u001b[1;30mERROR\u001b[0m \u001b[31m[ESP32Client] HTTPConnectionPool(host='192.168.137.115', port=80): Max retries exceeded with url: /lens_z (Caused by ConnectTimeoutError(<urllib3.connection.HTTPConnection object at 0x0000019B55404A30>, 'Connection to 192.168.137.115 timed out. (connect timeout=1)'))\u001b[0m\n",
      "\u001b[32m2021-12-09 12:56:36\u001b[0m \u001b[1;30mERROR\u001b[0m \u001b[31m[ESP32Client] HTTPConnectionPool(host='192.168.137.115', port=80): Max retries exceeded with url: /lens_z (Caused by ConnectTimeoutError(<urllib3.connection.HTTPConnection object at 0x0000019B553FA4F0>, 'Connection to 192.168.137.115 timed out. (connect timeout=1)'))\u001b[0m\n"
     ]
    }
   ],
   "source": [
    "\n",
    "interact(move_analog_1, value=(0,255))\n",
    "interact(move_analog_2, value=(0,255))\n",
    "\n",
    "\n"
   ]
  },
  {
   "cell_type": "code",
   "execution_count": null,
   "metadata": {},
   "outputs": [],
   "source": [
    "    "
   ]
  },
  {
   "cell_type": "code",
   "execution_count": null,
   "metadata": {},
   "outputs": [
    {
     "data": {
      "text/plain": [
       "{}"
      ]
     },
     "execution_count": 212,
     "metadata": {},
     "output_type": "execute_result"
    }
   ],
   "source": [
    "    "
   ]
  },
  {
   "cell_type": "code",
   "execution_count": null,
   "metadata": {},
   "outputs": [],
   "source": []
  }
 ],
 "metadata": {
  "kernelspec": {
   "display_name": "Python 3 (ipykernel)",
   "language": "python",
   "name": "python3"
  },
  "language_info": {
   "codemirror_mode": {
    "name": "ipython",
    "version": 3
   },
   "file_extension": ".py",
   "mimetype": "text/x-python",
   "name": "python",
   "nbconvert_exporter": "python",
   "pygments_lexer": "ipython3",
   "version": "3.8.12"
  }
 },
 "nbformat": 4,
 "nbformat_minor": 4
}
