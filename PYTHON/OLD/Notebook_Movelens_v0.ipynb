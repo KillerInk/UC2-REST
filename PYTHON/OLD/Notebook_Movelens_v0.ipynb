{
 "cells": [
  {
   "cell_type": "code",
   "execution_count": null,
   "id": "69e0295c",
   "metadata": {},
   "outputs": [],
   "source": [
    "#!pip uninstall pyserial \n",
    "#!pip3 install pyserial --force-reinstall\n",
    "import sys\n",
    "sys.executable\n",
    "#import serial\n",
    "#!conda info\n",
    "#!conda install -c anaconda pyserial"
   ]
  },
  {
   "cell_type": "code",
   "execution_count": 1,
   "id": "b4db0f3e",
   "metadata": {},
   "outputs": [
    {
     "ename": "ModuleNotFoundError",
     "evalue": "No module named 'laser'",
     "output_type": "error",
     "traceback": [
      "\u001b[0;31m---------------------------------------------------------------------------\u001b[0m",
      "\u001b[0;31mModuleNotFoundError\u001b[0m                       Traceback (most recent call last)",
      "\u001b[0;32m<ipython-input-1-8ae9fae9cf0c>\u001b[0m in \u001b[0;36m<module>\u001b[0;34m\u001b[0m\n\u001b[1;32m      1\u001b[0m \u001b[0;32mimport\u001b[0m \u001b[0mnumpy\u001b[0m \u001b[0;32mas\u001b[0m \u001b[0mnp\u001b[0m\u001b[0;34m\u001b[0m\u001b[0;34m\u001b[0m\u001b[0m\n\u001b[1;32m      2\u001b[0m \u001b[0;32mimport\u001b[0m \u001b[0mmatplotlib\u001b[0m\u001b[0;34m.\u001b[0m\u001b[0mpyplot\u001b[0m \u001b[0;32mas\u001b[0m \u001b[0mplt\u001b[0m\u001b[0;34m\u001b[0m\u001b[0;34m\u001b[0m\u001b[0m\n\u001b[0;32m----> 3\u001b[0;31m \u001b[0;32mfrom\u001b[0m \u001b[0mlaser\u001b[0m \u001b[0;32mimport\u001b[0m \u001b[0mlaser\u001b[0m\u001b[0;34m\u001b[0m\u001b[0;34m\u001b[0m\u001b[0m\n\u001b[0m\u001b[1;32m      4\u001b[0m \u001b[0;32mfrom\u001b[0m \u001b[0mlens\u001b[0m \u001b[0;32mimport\u001b[0m \u001b[0mlens\u001b[0m\u001b[0;34m\u001b[0m\u001b[0;34m\u001b[0m\u001b[0m\n\u001b[1;32m      5\u001b[0m \u001b[0;34m\u001b[0m\u001b[0m\n",
      "\u001b[0;31mModuleNotFoundError\u001b[0m: No module named 'laser'"
     ]
    }
   ],
   "source": [
    "import numpy as np\n",
    "import matplotlib.pyplot as plt\n",
    "from laser import laser\n",
    "from lens import lens\n",
    "\n",
    "import time\n",
    "from IPython.display import clear_output\n",
    "import matplotlib\n",
    "from IPython.display import display \n",
    "import ipywidgets as widgets \n",
    "from ipywidgets import interact, Layout \n"
   ]
  },
  {
   "cell_type": "code",
   "execution_count": 6,
   "id": "ba809b1f",
   "metadata": {},
   "outputs": [
    {
     "name": "stdout",
     "output_type": "stream",
     "text": [
      "/dev/cu.SOC\n",
      "/dev/cu.MALS\n",
      "/dev/cu.Bluetooth-Incoming-Port\n",
      "/dev/cu.SLAB_USBtoUART\n",
      "/dev/cu.usbserial-0001\n"
     ]
    }
   ],
   "source": [
    "import serial.tools.list_ports as ports\n",
    "\n",
    "# choose the port which looks like an ESP/Arduino\n",
    "com_ports = list(ports.comports()) # create a list of com ['COM1','COM2'] \n",
    "for i in com_ports:            \n",
    "    print(i.device) # returns 'COMx'  \n"
   ]
  },
  {
   "cell_type": "code",
   "execution_count": 8,
   "id": "05f7c998",
   "metadata": {},
   "outputs": [
    {
     "name": "stdout",
     "output_type": "stream",
     "text": [
      "Initializing Lens 1\n",
      "Printing Buffer: *LENS1X+1000#\n",
      "Printing Buffer: *LENS1Z+1000#\n",
      "Printing Buffer: *LAS1+0#\n"
     ]
    }
   ],
   "source": [
    "# open the lens and move it \n",
    "import serial\n",
    "serialport = \"/dev/ttyUSB1\" # in Linux - check that in your arduino IDE (lower right area)\n",
    "#serialport = \"COM5\" # in windows\n",
    "serialport = \"/dev/cu.SLAB_USBtoUART\" # MAC\n",
    "serialconnection = serial.Serial(serialport,115200,timeout=1) # Open grbl serial port\n",
    "\n",
    "print('Initializing Lens 1')\n",
    "# init lens\n",
    "lens_1 = lens(serialconnection, lens_id = 1)\n",
    "laser_1 = laser(serialconnection, laser_id = 1)\n"
   ]
  },
  {
   "cell_type": "code",
   "execution_count": 9,
   "id": "b3476c7b",
   "metadata": {},
   "outputs": [
    {
     "name": "stdout",
     "output_type": "stream",
     "text": [
      "Printing Buffer: *LENS1X+1000#\n",
      "Printing Buffer: *LENS1Z+0#\n"
     ]
    }
   ],
   "source": [
    "pos_x = 1000\n",
    "pos_z = 0000\n",
    "\n",
    "lens_1.move(pos_x, \"X\")\n",
    "lens_1.move(pos_z, \"Z\")\n",
    "\n"
   ]
  },
  {
   "cell_type": "code",
   "execution_count": 10,
   "id": "cd973e56",
   "metadata": {},
   "outputs": [],
   "source": [
    "slider1 = widgets.IntSlider(value=1000,min=0,max=10000,step=100,description='LensX:',orientation='vertical')"
   ]
  },
  {
   "cell_type": "code",
   "execution_count": null,
   "id": "783845da",
   "metadata": {},
   "outputs": [],
   "source": []
  },
  {
   "cell_type": "code",
   "execution_count": 12,
   "id": "b233c489",
   "metadata": {},
   "outputs": [
    {
     "data": {
      "application/vnd.jupyter.widget-view+json": {
       "model_id": "3143cd658e334c62bc79d8243b54dcde",
       "version_major": 2,
       "version_minor": 0
      },
      "text/plain": [
       "interactive(children=(IntSlider(value=5000, description='lensvalX', max=10000), Output()), _dom_classes=('widg…"
      ]
     },
     "metadata": {},
     "output_type": "display_data"
    },
    {
     "data": {
      "application/vnd.jupyter.widget-view+json": {
       "model_id": "691aca01268743d9ba6a57b1142adfca",
       "version_major": 2,
       "version_minor": 0
      },
      "text/plain": [
       "interactive(children=(IntSlider(value=5000, description='lensvalZ', max=10000), Output()), _dom_classes=('widg…"
      ]
     },
     "metadata": {},
     "output_type": "display_data"
    },
    {
     "data": {
      "text/plain": [
       "<function __main__.updatelens2(lensvalZ)>"
      ]
     },
     "execution_count": 12,
     "metadata": {},
     "output_type": "execute_result"
    }
   ],
   "source": [
    "def updatelens1(lensvalX): \n",
    "    lens_1.move(lensvalX, \"X\"); \n",
    "    \n",
    "def updatelens2(lensvalZ): \n",
    "    lens_1.move(lensvalZ, \"Z\");\n",
    "    \n",
    "    \n",
    "interact(updatelens1, lensvalX = (0,10000))\n",
    "interact(updatelens2, lensvalZ = (0,10000))"
   ]
  },
  {
   "cell_type": "code",
   "execution_count": null,
   "id": "ab7769da",
   "metadata": {},
   "outputs": [],
   "source": [
    "serialconnection.close()"
   ]
  }
 ],
 "metadata": {
  "kernelspec": {
   "display_name": "Python 3",
   "language": "python",
   "name": "python3"
  },
  "language_info": {
   "codemirror_mode": {
    "name": "ipython",
    "version": 3
   },
   "file_extension": ".py",
   "mimetype": "text/x-python",
   "name": "python",
   "nbconvert_exporter": "python",
   "pygments_lexer": "ipython3",
   "version": "3.8.5"
  }
 },
 "nbformat": 4,
 "nbformat_minor": 5
}
