{
 "cells": [
  {
   "cell_type": "markdown",
   "metadata": {},
   "source": [
    "# ESP32 Client Test"
   ]
  },
  {
   "cell_type": "code",
   "execution_count": 2,
   "metadata": {},
   "outputs": [
    {
     "name": "stdout",
     "output_type": "stream",
     "text": [
      "Collecting zeroconf\n",
      "  Downloading https://files.pythonhosted.org/packages/73/34/474853be969f18ac30a8b212f8665cb0460946788cd61647747a634eaf36/zeroconf-0.36.2-py3-none-any.whl (93kB)\n",
      "Collecting ifaddr>=0.1.7 (from zeroconf)\n",
      "  Using cached https://files.pythonhosted.org/packages/92/0f/a577a724c03982b800232713874e805c8fcc14f4a2c3060902ed20b50da8/ifaddr-0.1.7-py2.py3-none-any.whl\n",
      "Installing collected packages: ifaddr, zeroconf\n",
      "Successfully installed ifaddr-0.1.7 zeroconf-0.36.2\n",
      "Collecting json\n"
     ]
    },
    {
     "name": "stderr",
     "output_type": "stream",
     "text": [
      "  ERROR: Could not find a version that satisfies the requirement json (from versions: none)\n",
      "ERROR: No matching distribution found for json\n"
     ]
    },
    {
     "name": "stdout",
     "output_type": "stream",
     "text": [
      "Requirement already satisfied: requests in c:\\users\\uc2\\anaconda3\\lib\\site-packages (2.22.0)\n",
      "Requirement already satisfied: certifi>=2017.4.17 in c:\\users\\uc2\\anaconda3\\lib\\site-packages (from requests) (2019.9.11)\n",
      "Requirement already satisfied: idna<2.9,>=2.5 in c:\\users\\uc2\\anaconda3\\lib\\site-packages (from requests) (2.8)\n",
      "Requirement already satisfied: chardet<3.1.0,>=3.0.2 in c:\\users\\uc2\\anaconda3\\lib\\site-packages (from requests) (3.0.4)\n",
      "Requirement already satisfied: urllib3!=1.25.0,!=1.25.1,<1.26,>=1.21.1 in c:\\users\\uc2\\anaconda3\\lib\\site-packages (from requests) (1.24.2)\n"
     ]
    }
   ],
   "source": [
    "from __future__ import print_function\n",
    "from ipywidgets import interact, interactive, fixed, interact_manual\n",
    "import ipywidgets as widgets\n",
    "\n",
    "!pip install zeroconf\n",
    "!pip install json\n",
    "!pip install requests\n",
    "import requests\n",
    "import json\n",
    "import time\n",
    "import io\n",
    "#import PIL.Image\n",
    "import numpy as np\n",
    "\n",
    "import espclient as espc\n",
    "\n"
   ]
  },
  {
   "cell_type": "code",
   "execution_count": 7,
   "metadata": {},
   "outputs": [],
   "source": [
    "host = '192.168.43.226'\n",
    "esp32 = espc.ESP32Client(host, port=80)"
   ]
  },
  {
   "cell_type": "code",
   "execution_count": 48,
   "metadata": {},
   "outputs": [],
   "source": [
    "def move_z(steps, speed):\n",
    "    print(\"Move Z: \"+str(steps)+\", \"+str(speed))\n",
    "    esp32.move_z(steps=steps,  speed=speed)\n",
    "\n",
    "\n",
    "def laser_red(intensity_red=0):\n",
    "    esp32.set_laser_red(intensity_red)\n",
    "\n",
    "    \n",
    "def laser_green(intensity_green=0):\n",
    "    esp32.set_laser_green(intensity_green)\n",
    "\n",
    "\n",
    "def laser_blue(intensity_blue=0):\n",
    "    esp32.set_laser_blue(intensity_blue)\n",
    "\n",
    "btn_focus_up = widgets.Button(description='Focus Up')\n",
    "out_focus_up = widgets.Output()\n",
    "btn_focus_down = widgets.Button(description='Focus Down')\n",
    "out_focus_down = widgets.Output()\n",
    "\n",
    "def focus_up(b, steps=-100,  speed=500):\n",
    "    try:\n",
    "        esp32.move_z(steps=steps,  speed=speed)\n",
    "    except Exception as e:\n",
    "        print(e)\n",
    "\n",
    "def focus_down(b, steps=-100,  speed=500):\n",
    "    try:\n",
    "        esp32.move_z(steps=steps,  speed=speed)\n",
    "    except Exception as e:\n",
    "        print(e)\n",
    "\n",
    "\n",
    "btn_filter_up = widgets.Button(description='filter Up')\n",
    "out_filter_up = widgets.Output()\n",
    "btn_filter_down = widgets.Button(description='filter Down')\n",
    "out_filter_down = widgets.Output()\n",
    "\n",
    "def filter_up(steps=400, speed=10):\n",
    "    try:\n",
    "        esp32.move_filter(steps=steps,  speed=10)\n",
    "    except Exception as e:\n",
    "        print(e)\n",
    "\n",
    "def filter_down(_):\n",
    "    steps=-400\n",
    "    try:\n",
    "        esp32.move_filter(steps=steps,  speed=10)\n",
    "    except Exception as e:\n",
    "        print(e)\n",
    "\n",
    "        "
   ]
  },
  {
   "cell_type": "code",
   "execution_count": null,
   "metadata": {},
   "outputs": [],
   "source": []
  },
  {
   "cell_type": "code",
   "execution_count": 51,
   "metadata": {},
   "outputs": [
    {
     "data": {
      "application/vnd.jupyter.widget-view+json": {
       "model_id": "53679914613c4dc3ae70a8f7977fc9da",
       "version_major": 2,
       "version_minor": 0
      },
      "text/plain": [
       "interactive(children=(IntSlider(value=0, description='intensity_red', max=100000), Output()), _dom_classes=('w…"
      ]
     },
     "metadata": {},
     "output_type": "display_data"
    },
    {
     "data": {
      "application/vnd.jupyter.widget-view+json": {
       "model_id": "96c2c0319eae40c690c7e286c04de5eb",
       "version_major": 2,
       "version_minor": 0
      },
      "text/plain": [
       "interactive(children=(IntSlider(value=0, description='intensity_blue', max=100000), Output()), _dom_classes=('…"
      ]
     },
     "metadata": {},
     "output_type": "display_data"
    },
    {
     "data": {
      "application/vnd.jupyter.widget-view+json": {
       "model_id": "ff369740155944aeb33b236e7b8e6af6",
       "version_major": 2,
       "version_minor": 0
      },
      "text/plain": [
       "interactive(children=(IntSlider(value=0, description='intensity_green', max=100000), Output()), _dom_classes=(…"
      ]
     },
     "metadata": {},
     "output_type": "display_data"
    },
    {
     "data": {
      "application/vnd.jupyter.widget-view+json": {
       "model_id": "237592dd6906476a9a21b4182481e8d4",
       "version_major": 2,
       "version_minor": 0
      },
      "text/plain": [
       "VBox(children=(Button(description='Focus Up', style=ButtonStyle()), Output(), Button(description='Focus Down',…"
      ]
     },
     "metadata": {},
     "output_type": "display_data"
    },
    {
     "name": "stdout",
     "output_type": "stream",
     "text": [
      "HTTPConnectionPool(host='192.168.43.226', port=80): Read timed out. (read timeout=1)\n"
     ]
    }
   ],
   "source": [
    "import functools\n",
    "\n",
    "interact(laser_red, intensity_red=(0,100000));\n",
    "interact(laser_blue, intensity_blue=(0,100000));\n",
    "interact(laser_green, intensity_green=(0,100000));\n",
    "#interact(move_z, steps=(-100,100));\n",
    "\n",
    "btn_focus_up.on_click(functools.partial(focus_up, steps=3000,  speed=700))\n",
    "btn_focus_down.on_click(functools.partial(focus_down, steps=-3000,  speed=700))\n",
    "btn_filter_up.on_click(filter_up)\n",
    "btn_filter_down.on_click(filter_down)\n",
    "widgets.VBox([btn_focus_up,out_focus_up,btn_focus_down,out_focus_down,\n",
    "             btn_filter_up,out_filter_up,btn_filter_down,out_filter_down])\n",
    "\n"
   ]
  },
  {
   "cell_type": "code",
   "execution_count": 9,
   "metadata": {},
   "outputs": [
    {
     "data": {
      "application/vnd.jupyter.widget-view+json": {
       "model_id": "c3772be326ce465fb93d64bfec35762f",
       "version_major": 2,
       "version_minor": 0
      },
      "text/plain": [
       "VBox(children=(Button(description='filter Up', style=ButtonStyle()), Output()))"
      ]
     },
     "metadata": {},
     "output_type": "display_data"
    },
    {
     "name": "stdout",
     "output_type": "stream",
     "text": [
      "a\n",
      "1\n"
     ]
    }
   ],
   "source": [
    "import functools\n",
    "\n",
    "def on_button_clicked(b, rs_=\"some_default_string\", ab=0):\n",
    "    print(rs_)\n",
    "    print(ab)\n",
    "\n",
    "button = widgets.Button(description='filter Up')\n",
    "out = widgets.Output()\n",
    "button.on_click(functools.partial(on_button_clicked, rs_=\"a\", ab=1))\n",
    "widgets.VBox([button,out])"
   ]
  },
  {
   "cell_type": "code",
   "execution_count": 46,
   "metadata": {},
   "outputs": [
    {
     "data": {
      "text/plain": [
       "{}"
      ]
     },
     "execution_count": 46,
     "metadata": {},
     "output_type": "execute_result"
    }
   ],
   "source": [
    "esp32.move_z(steps=-10000,  speed=700)"
   ]
  }
 ],
 "metadata": {
  "kernelspec": {
   "display_name": "Python 3",
   "language": "python",
   "name": "python3"
  },
  "language_info": {
   "codemirror_mode": {
    "name": "ipython",
    "version": 3
   },
   "file_extension": ".py",
   "mimetype": "text/x-python",
   "name": "python",
   "nbconvert_exporter": "python",
   "pygments_lexer": "ipython3",
   "version": "3.7.4"
  }
 },
 "nbformat": 4,
 "nbformat_minor": 4
}
