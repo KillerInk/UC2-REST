{
 "cells": [
  {
   "cell_type": "markdown",
   "metadata": {},
   "source": [
    "# ESP32 Client Test"
   ]
  },
  {
   "cell_type": "code",
   "execution_count": null,
   "metadata": {},
   "outputs": [],
   "source": [
    "from __future__ import print_function\n",
    "from ipywidgets import interact, interactive, fixed, interact_manual\n",
    "import ipywidgets as widgets\n",
    "\n",
    "import requests\n",
    "import json\n",
    "import time\n",
    "import io\n",
    "#import PIL.Image\n",
    "import numpy as np\n",
    "import functools\n",
    "\n",
    "import espclient as espc\n",
    "\n"
   ]
  },
  {
   "cell_type": "code",
   "execution_count": 172,
   "metadata": {},
   "outputs": [],
   "source": [
    "host = '192.168.43.226'\n",
    "host= '192.168.137.34'\n",
    "host = '192.168.137.131'\n",
    "esp32 = espc.ESP32Client(host, port=80)"
   ]
  },
  {
   "cell_type": "code",
   "execution_count": 173,
   "metadata": {},
   "outputs": [],
   "source": [
    "def move_z(steps, speed):\n",
    "    print(\"Move Z: \"+str(steps)+\", \"+str(speed))\n",
    "    esp32.move_z(steps=steps,  speed=speed)\n",
    "\n",
    "#% LED\n",
    "def set_led(self, colour=(0,0,0)):\n",
    "    payload = {\n",
    "        \"red\": colour[0], \n",
    "        \"green\": colour[1], \n",
    "        \"blue\": colour[2]\n",
    "    }\n",
    "    path = '/led'\n",
    "    r = self.post_json(path, payload)\n",
    "    return r\n",
    "\n",
    "def laser_red(intensity_red=0):\n",
    "    esp32.set_laser_red(intensity_red)\n",
    "\n",
    "    \n",
    "def laser_green(intensity_green=0):\n",
    "    esp32.set_laser_green(intensity_green)\n",
    "\n",
    "\n",
    "def laser_blue(intensity_blue=0):\n",
    "    esp32.set_laser_blue(intensity_blue)\n",
    "\n",
    "def laser_white(intensity_white=0):\n",
    "    esp32.set_laser_red(intensity_white)\n",
    "    esp32.set_laser_blue(intensity_white)\n",
    "    esp32.set_laser_green(intensity_white)\n",
    "    \n",
    "btn_focus_up = widgets.Button(description='Focus Up')\n",
    "out_focus_up = widgets.Output()\n",
    "btn_focus_down = widgets.Button(description='Focus Down')\n",
    "out_focus_down = widgets.Output()\n",
    "\n",
    "def focus_up(b, steps=-100,  speed=500):\n",
    "    try:\n",
    "        esp32.move_z(steps=steps,  speed=speed)\n",
    "    except Exception as e:\n",
    "        print(e)\n",
    "\n",
    "def focus_down(b, steps=-100,  speed=500):\n",
    "    try:\n",
    "        esp32.move_z(steps=steps,  speed=speed)\n",
    "    except Exception as e:\n",
    "        print(e)\n",
    "\n",
    "\n",
    "btn_filter_up = widgets.Button(description='filter Up')\n",
    "out_filter_up = widgets.Output()\n",
    "btn_filter_down = widgets.Button(description='filter Down')\n",
    "out_filter_down = widgets.Output()\n",
    "\n",
    "def filter_up(steps=400, speed=10):\n",
    "    try:\n",
    "        esp32.switch_filter()\n",
    "        esp32.move_filter(steps=60,  speed=10)\n",
    "    \n",
    "    except Exception as e:\n",
    "        print(e)\n",
    "\n",
    "def filter_down(_):\n",
    "    steps=-400\n",
    "    try:\n",
    "        esp32.move_filter(steps=steps,  speed=10)\n",
    "    except Exception as e:\n",
    "        print(e)\n",
    "\n",
    "\n",
    "def led_red(intensity_red=0):\n",
    "    esp32.set_led(colour=(intensity_red,0,0))\n",
    "def led_green(intensity_green=0):\n",
    "    esp32.set_led(colour=(0,intensity_green,0))\n",
    "def led_blue(intensity_blue=0):\n",
    "    esp32.set_led(colour=(0,0,intensity_blue))\n",
    "def led_white(intensity_white=0):\n",
    "    esp32.set_led(colour=(intensity_white,intensity_white,intensity_white))"
   ]
  },
  {
   "cell_type": "code",
   "execution_count": null,
   "metadata": {},
   "outputs": [],
   "source": []
  },
  {
   "cell_type": "code",
   "execution_count": 174,
   "metadata": {},
   "outputs": [
    {
     "data": {
      "application/vnd.jupyter.widget-view+json": {
       "model_id": "ce25c200798741df86e27f3d73ba84d0",
       "version_major": 2,
       "version_minor": 0
      },
      "text/plain": [
       "interactive(children=(IntSlider(value=0, description='intensity_red', max=255), Output()), _dom_classes=('widg…"
      ]
     },
     "metadata": {},
     "output_type": "display_data"
    },
    {
     "data": {
      "application/vnd.jupyter.widget-view+json": {
       "model_id": "f0aeafd3b9ce4cc9b9f38370250a136a",
       "version_major": 2,
       "version_minor": 0
      },
      "text/plain": [
       "interactive(children=(IntSlider(value=0, description='intensity_green', max=255), Output()), _dom_classes=('wi…"
      ]
     },
     "metadata": {},
     "output_type": "display_data"
    },
    {
     "data": {
      "application/vnd.jupyter.widget-view+json": {
       "model_id": "ababebb470f54f9898356ad1a7b2d831",
       "version_major": 2,
       "version_minor": 0
      },
      "text/plain": [
       "interactive(children=(IntSlider(value=0, description='intensity_blue', max=255), Output()), _dom_classes=('wid…"
      ]
     },
     "metadata": {},
     "output_type": "display_data"
    },
    {
     "data": {
      "application/vnd.jupyter.widget-view+json": {
       "model_id": "08eb2aefedb04a8a87554851cf3c9e8f",
       "version_major": 2,
       "version_minor": 0
      },
      "text/plain": [
       "interactive(children=(IntSlider(value=0, description='intensity_white', max=255), Output()), _dom_classes=('wi…"
      ]
     },
     "metadata": {},
     "output_type": "display_data"
    },
    {
     "data": {
      "application/vnd.jupyter.widget-view+json": {
       "model_id": "8e2e1492a2914076b1a73c830107d8a7",
       "version_major": 2,
       "version_minor": 0
      },
      "text/plain": [
       "interactive(children=(IntSlider(value=0, description='intensity_red', max=200), Output()), _dom_classes=('widg…"
      ]
     },
     "metadata": {},
     "output_type": "display_data"
    },
    {
     "data": {
      "application/vnd.jupyter.widget-view+json": {
       "model_id": "11384d4008994166a13918c8d72ececd",
       "version_major": 2,
       "version_minor": 0
      },
      "text/plain": [
       "interactive(children=(IntSlider(value=0, description='intensity_blue', max=15000), Output()), _dom_classes=('w…"
      ]
     },
     "metadata": {},
     "output_type": "display_data"
    },
    {
     "data": {
      "application/vnd.jupyter.widget-view+json": {
       "model_id": "890a8b8bd4e748439445a9ec10800bd0",
       "version_major": 2,
       "version_minor": 0
      },
      "text/plain": [
       "interactive(children=(IntSlider(value=0, description='intensity_green', max=2000), Output()), _dom_classes=('w…"
      ]
     },
     "metadata": {},
     "output_type": "display_data"
    },
    {
     "data": {
      "application/vnd.jupyter.widget-view+json": {
       "model_id": "675d433809d5462db28623ac31299b29",
       "version_major": 2,
       "version_minor": 0
      },
      "text/plain": [
       "interactive(children=(IntSlider(value=0, description='intensity_white', max=2000), Output()), _dom_classes=('w…"
      ]
     },
     "metadata": {},
     "output_type": "display_data"
    },
    {
     "data": {
      "application/vnd.jupyter.widget-view+json": {
       "model_id": "4d40251ede434863bd4e6a89d442db67",
       "version_major": 2,
       "version_minor": 0
      },
      "text/plain": [
       "VBox(children=(Button(description='Focus Up', style=ButtonStyle()), Output(), Button(description='Focus Down',…"
      ]
     },
     "metadata": {},
     "output_type": "display_data"
    }
   ],
   "source": [
    "\n",
    "interact(led_red, intensity_red=(0,255))\n",
    "interact(led_green, intensity_green=(0,255))\n",
    "interact(led_blue, intensity_blue=(0,255))\n",
    "interact(led_white, intensity_white=(0,255))\n",
    "\n",
    "interact(laser_red, intensity_red=(0,200));\n",
    "interact(laser_blue, intensity_blue=(0,15000));\n",
    "interact(laser_green, intensity_green=(0,2000));\n",
    "interact(laser_white, intensity_white=(0,2000));\n",
    "#interact(move_z, steps=(-100,100));\n",
    "\n",
    "btn_focus_up.on_click(functools.partial(focus_up, steps=3000,  speed=700))\n",
    "btn_focus_down.on_click(functools.partial(focus_down, steps=-3000,  speed=700))\n",
    "btn_filter_up.on_click(filter_up)\n",
    "widgets.VBox([btn_focus_up,out_focus_up,btn_focus_down,out_focus_down,\n",
    "             btn_filter_up,out_filter_up])\n",
    "\n"
   ]
  },
  {
   "cell_type": "code",
   "execution_count": null,
   "metadata": {},
   "outputs": [],
   "source": [
    "import functools\n",
    "\n",
    "def on_button_clicked(b, rs_=\"some_default_string\", ab=0):\n",
    "    print(rs_)\n",
    "    print(ab)\n",
    "\n",
    "button = widgets.Button(description='filter Up')\n",
    "out = widgets.Output()\n",
    "button.on_click(functools.partial(on_button_clicked, rs_=\"a\", ab=1))\n",
    "widgets.VBox([button,out])"
   ]
  },
  {
   "cell_type": "code",
   "execution_count": 212,
   "metadata": {},
   "outputs": [
    {
     "data": {
      "text/plain": [
       "{}"
      ]
     },
     "execution_count": 212,
     "metadata": {},
     "output_type": "execute_result"
    }
   ],
   "source": [
    "esp32.move_z(steps=-10,  speed=700)"
   ]
  },
  {
   "cell_type": "code",
   "execution_count": null,
   "metadata": {},
   "outputs": [],
   "source": [
    "esp32.set_led(colour=(255,0,0))"
   ]
  }
 ],
 "metadata": {
  "kernelspec": {
   "display_name": "Python 3",
   "language": "python",
   "name": "python3"
  },
  "language_info": {
   "codemirror_mode": {
    "name": "ipython",
    "version": 3
   },
   "file_extension": ".py",
   "mimetype": "text/x-python",
   "name": "python",
   "nbconvert_exporter": "python",
   "pygments_lexer": "ipython3",
   "version": "3.7.4"
  }
 },
 "nbformat": 4,
 "nbformat_minor": 4
}
