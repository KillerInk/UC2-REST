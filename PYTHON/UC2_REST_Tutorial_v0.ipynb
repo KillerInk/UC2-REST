{
 "cells": [
  {
   "cell_type": "markdown",
   "id": "0456a946",
   "metadata": {},
   "source": [
    "# UC2 REST Tutorial\n",
    "\n",
    "Here we are going to teach you how to interact with the UC2 microcontroller and how you can add additional functionalities. \n",
    "\n",
    "In order to use the client in your python environment you need the following packages to be installed:\n",
    "\n",
    "(use the `!` to install it from within this jupyter notebook)\n",
    "```py\n",
    "!pip install numpy requests python-opencv\n",
    "!pip install socket tempfile pyserial\n",
    "```\n",
    "\n",
    "\n",
    "This code has been tested with the ESP32 WEMOS D1 R32 + CNC shield v3, where 3 stepper are connected to the board and an LED Matrix (WS2812, adafruit) is connected to the FEED pin. \n",
    "\n",
    "The release file for the firmware can be found here: https://github.com/openUC2/UC2-REST/releases/tag/ESP32_WEMOS_D1_R32\n",
    "\n",
    "\n"
   ]
  },
  {
   "cell_type": "markdown",
   "id": "623bc1e4",
   "metadata": {},
   "source": [
    "## Organize all imports\n",
    "\n",
    "First of all we need to import the `ESP32Client`. Since it is not yet a standalone pip package, we have to do that via a relaitve import, meaning that the file is in the same folder as this Jupyter Notebook"
   ]
  },
  {
   "cell_type": "code",
   "execution_count": 1,
   "id": "c5e2f6da",
   "metadata": {},
   "outputs": [],
   "source": [
    "%load_ext autoreload \n",
    "%autoreload 2\n",
    "from ESP32Client import ESP32Client  "
   ]
  },
  {
   "cell_type": "markdown",
   "id": "8db1ee0c",
   "metadata": {},
   "source": [
    "# Connecting to the ESP32 via USB\n",
    "\n",
    "Now we want to initiliaze the USB-serial connection. Therefore, connect the ESP32 to your computer using a data (!) USB cable and establish the connection. You can leave the port as \"unknown\" as the portfinder may identify the ESP.\n",
    "\n",
    "**Important:** Close all applications that may be connected to the ESP (e.g. Arduino Serial Plotter)\n",
    "\n",
    "**IMPORTANT:** Install the USB serial driver for the ESP32: https://learn.sparkfun.com/tutorials/how-to-install-ch340-drivers/all"
   ]
  },
  {
   "cell_type": "code",
   "execution_count": 2,
   "id": "caadeb4f",
   "metadata": {},
   "outputs": [
    {
     "name": "stderr",
     "output_type": "stream",
     "text": [
      "2022-05-20 16:01:11 DEBUG [ESP32Client] Searching for SERIAL devices...\n",
      "2022-05-20 16:01:11 DEBUG [ESP32Client] /dev/cu.MALS\n",
      "2022-05-20 16:01:11 DEBUG [ESP32Client] /dev/cu.SOC\n",
      "2022-05-20 16:01:11 DEBUG [ESP32Client] /dev/cu.Bluetooth-Incoming-Port\n",
      "2022-05-20 16:01:11 DEBUG [ESP32Client] /dev/cu.MiTrueWirelessEBsBasic2\n",
      "2022-05-20 16:01:11 DEBUG [ESP32Client] /dev/cu.SLAB_USBtoUART\n",
      "2022-05-20 16:01:13 DEBUG [ESP32Client] We are connected: True on port: /dev/cu.SLAB_USBtoUART\n"
     ]
    }
   ],
   "source": [
    "ESP32 = ESP32Client(serialport=\"unknown\")"
   ]
  },
  {
   "cell_type": "markdown",
   "id": "e492c7df",
   "metadata": {},
   "source": [
    "# Moving the motor \n",
    "\n",
    "The following code snippets will help you moving the motors (XYZ) continously or at a known number of `steps` at a certain `speed` level (all measured in steps/s). \n",
    "\n",
    "The additional attributs \n",
    "- `is_blocking` states if the action is performed in the background or not; if `False` no return message will be provided\n",
    "- `is_absolute` says if we go relative or absolute steps \n",
    "- `is_enabled` says if we want to \"unpower\" the motors once we are done (prevent overheating)"
   ]
  },
  {
   "cell_type": "code",
   "execution_count": 9,
   "id": "d6f65b85",
   "metadata": {},
   "outputs": [
    {
     "ename": "KeyError",
     "evalue": "'position'",
     "output_type": "error",
     "traceback": [
      "\u001b[0;31m---------------------------------------------------------------------------\u001b[0m",
      "\u001b[0;31mKeyError\u001b[0m                                  Traceback (most recent call last)",
      "\u001b[0;32m/var/folders/4w/k4yhf14j7xsbp2jd85yk555r0000gn/T/ipykernel_43294/10523693.py\u001b[0m in \u001b[0;36m<module>\u001b[0;34m\u001b[0m\n\u001b[1;32m      1\u001b[0m \u001b[0;31m# move and measure\u001b[0m\u001b[0;34m\u001b[0m\u001b[0;34m\u001b[0m\u001b[0;34m\u001b[0m\u001b[0m\n\u001b[0;32m----> 2\u001b[0;31m \u001b[0mprint\u001b[0m\u001b[0;34m(\u001b[0m\u001b[0;34m\"Current position: \"\u001b[0m\u001b[0;34m+\u001b[0m \u001b[0mstr\u001b[0m\u001b[0;34m(\u001b[0m\u001b[0mESP32\u001b[0m\u001b[0;34m.\u001b[0m\u001b[0mget_position\u001b[0m\u001b[0;34m(\u001b[0m\u001b[0maxis\u001b[0m\u001b[0;34m=\u001b[0m\u001b[0;36m1\u001b[0m\u001b[0;34m)\u001b[0m\u001b[0;34m)\u001b[0m\u001b[0;34m)\u001b[0m\u001b[0;34m\u001b[0m\u001b[0;34m\u001b[0m\u001b[0m\n\u001b[0m\u001b[1;32m      3\u001b[0m \u001b[0mESP32\u001b[0m\u001b[0;34m.\u001b[0m\u001b[0mmove_x\u001b[0m\u001b[0;34m(\u001b[0m\u001b[0msteps\u001b[0m\u001b[0;34m=\u001b[0m\u001b[0;36m1000\u001b[0m\u001b[0;34m,\u001b[0m \u001b[0mspeed\u001b[0m\u001b[0;34m=\u001b[0m\u001b[0;36m1000\u001b[0m\u001b[0;34m,\u001b[0m \u001b[0mis_blocking\u001b[0m\u001b[0;34m=\u001b[0m\u001b[0;32mTrue\u001b[0m\u001b[0;34m,\u001b[0m \u001b[0mis_absolute\u001b[0m\u001b[0;34m=\u001b[0m\u001b[0;32mTrue\u001b[0m\u001b[0;34m,\u001b[0m \u001b[0mis_enabled\u001b[0m\u001b[0;34m=\u001b[0m\u001b[0;32mTrue\u001b[0m\u001b[0;34m)\u001b[0m\u001b[0;34m\u001b[0m\u001b[0;34m\u001b[0m\u001b[0m\n\u001b[1;32m      4\u001b[0m \u001b[0mprint\u001b[0m\u001b[0;34m(\u001b[0m\u001b[0;34m\"Current position: \"\u001b[0m\u001b[0;34m+\u001b[0m \u001b[0mstr\u001b[0m\u001b[0;34m(\u001b[0m\u001b[0mESP32\u001b[0m\u001b[0;34m.\u001b[0m\u001b[0mget_position\u001b[0m\u001b[0;34m(\u001b[0m\u001b[0maxis\u001b[0m\u001b[0;34m=\u001b[0m\u001b[0;36m1\u001b[0m\u001b[0;34m)\u001b[0m\u001b[0;34m)\u001b[0m\u001b[0;34m)\u001b[0m\u001b[0;34m\u001b[0m\u001b[0;34m\u001b[0m\u001b[0m\n\u001b[1;32m      5\u001b[0m \u001b[0mESP32\u001b[0m\u001b[0;34m.\u001b[0m\u001b[0mmove_x\u001b[0m\u001b[0;34m(\u001b[0m\u001b[0msteps\u001b[0m\u001b[0;34m=\u001b[0m\u001b[0;36m0\u001b[0m\u001b[0;34m,\u001b[0m \u001b[0mspeed\u001b[0m\u001b[0;34m=\u001b[0m\u001b[0;36m1000\u001b[0m\u001b[0;34m,\u001b[0m \u001b[0mis_blocking\u001b[0m\u001b[0;34m=\u001b[0m\u001b[0;32mTrue\u001b[0m\u001b[0;34m,\u001b[0m \u001b[0mis_absolute\u001b[0m\u001b[0;34m=\u001b[0m\u001b[0;32mTrue\u001b[0m\u001b[0;34m,\u001b[0m \u001b[0mis_enabled\u001b[0m\u001b[0;34m=\u001b[0m\u001b[0;32mFalse\u001b[0m\u001b[0;34m)\u001b[0m\u001b[0;34m\u001b[0m\u001b[0;34m\u001b[0m\u001b[0m\n",
      "\u001b[0;32m~/Dropbox/Dokumente/Promotion/PROJECTS/UC2-REST/PYTHON/ESP32Client.py\u001b[0m in \u001b[0;36mget_position\u001b[0;34m(self, axis, timeout)\u001b[0m\n\u001b[1;32m    700\u001b[0m         }\n\u001b[1;32m    701\u001b[0m         \u001b[0mr\u001b[0m \u001b[0;34m=\u001b[0m \u001b[0mself\u001b[0m\u001b[0;34m.\u001b[0m\u001b[0mpost_json\u001b[0m\u001b[0;34m(\u001b[0m\u001b[0mpath\u001b[0m\u001b[0;34m,\u001b[0m \u001b[0mpayload\u001b[0m\u001b[0;34m,\u001b[0m \u001b[0mtimeout\u001b[0m\u001b[0;34m=\u001b[0m\u001b[0mtimeout\u001b[0m\u001b[0;34m)\u001b[0m\u001b[0;34m\u001b[0m\u001b[0;34m\u001b[0m\u001b[0m\n\u001b[0;32m--> 702\u001b[0;31m         \u001b[0m_position\u001b[0m \u001b[0;34m=\u001b[0m \u001b[0mr\u001b[0m\u001b[0;34m[\u001b[0m\u001b[0;34m\"position\"\u001b[0m\u001b[0;34m]\u001b[0m\u001b[0;34m\u001b[0m\u001b[0;34m\u001b[0m\u001b[0m\n\u001b[0m\u001b[1;32m    703\u001b[0m         \u001b[0;32mreturn\u001b[0m \u001b[0m_position\u001b[0m\u001b[0;34m\u001b[0m\u001b[0;34m\u001b[0m\u001b[0m\n\u001b[1;32m    704\u001b[0m \u001b[0;34m\u001b[0m\u001b[0m\n",
      "\u001b[0;31mKeyError\u001b[0m: 'position'"
     ]
    }
   ],
   "source": [
    "# move and measure\n",
    "print(\"Current position: \"+ str(ESP32.get_position(axis=1)))\n",
    "ESP32.move_x(steps=1000, speed=1000, is_blocking=True, is_absolute=True, is_enabled=True)\n",
    "print(\"Current position: \"+ str(ESP32.get_position(axis=1)))\n",
    "ESP32.move_x(steps=0, speed=1000, is_blocking=True, is_absolute=True, is_enabled=False)\n",
    "print(\"Current position: \"+ str(ESP32.get_position(axis=1)))\n",
    "\n",
    "print(\"Don't worry that it's not going to zero... it actually does, but we are asking for it too fast..\")"
   ]
  },
  {
   "cell_type": "code",
   "execution_count": null,
   "id": "2c95f5f1",
   "metadata": {},
   "outputs": [],
   "source": [
    "# for moving other motors\n",
    "ESP32.move_y(steps=1000, speed=1000, is_blocking=True, is_absolute=True, is_enabled=True)\n",
    "ESP32.move_z(steps=1000, speed=1000, is_blocking=True, is_absolute=True, is_enabled=True)"
   ]
  },
  {
   "cell_type": "code",
   "execution_count": null,
   "id": "e2f97425",
   "metadata": {},
   "outputs": [],
   "source": [
    "# moving multiple motors at different speed\n",
    "ESP32.move_xyz(steps=(1000,160,330), speed=(1000,100,10000), is_blocking=False, is_absolute=False, is_enabled=False)\n",
    "\n",
    "   "
   ]
  },
  {
   "cell_type": "code",
   "execution_count": null,
   "id": "b03b910e",
   "metadata": {},
   "outputs": [],
   "source": [
    "# moving a motor forever and then stop it\n",
    "ESP32.move_forever(speed=(100,0,0), is_stop=False, timeout=1)\n",
    "import time\n",
    "time.sleep(0.5)\n",
    "ESP32.move_forever(speed=(100,0,0), is_stop=True, timeout=1)"
   ]
  },
  {
   "cell_type": "markdown",
   "id": "0d72ffa0",
   "metadata": {},
   "source": [
    "# LED Matrix\n",
    "\n",
    "The LED matrix is connected to the \"HOLD\" pin and can be controlled through the PYTHON interface too"
   ]
  },
  {
   "cell_type": "code",
   "execution_count": null,
   "id": "7ecd5211",
   "metadata": {},
   "outputs": [],
   "source": [
    "# set all LEDs to a certain RGB value\n",
    "ESP32.send_LEDMatrix_full(intensity = (0,255,255),timeout=1)"
   ]
  },
  {
   "cell_type": "code",
   "execution_count": null,
   "id": "6970eaea",
   "metadata": {},
   "outputs": [],
   "source": [
    "# set a single LED to a certain RGB value\n",
    "ESP32.send_LEDMatrix_single(indexled=22, intensity=(255,255,255), Nleds=8*8, timeout=1)"
   ]
  },
  {
   "cell_type": "code",
   "execution_count": null,
   "id": "c40d9ba8",
   "metadata": {},
   "outputs": [],
   "source": [
    "# set a special LED pattern to a certain RGB value (e.g. \"top\", \"bottom\", \"left\", \"right\")\n",
    "ESP32.send_LEDMatrix_special(pattern=\"left\", intensity = (255,255,255),timeout=1)\n"
   ]
  },
  {
   "cell_type": "code",
   "execution_count": null,
   "id": "407942ef",
   "metadata": {},
   "outputs": [],
   "source": [
    "# set a special LED pattern to a certain RGB value (e.g. \"top\", \"bottom\", \"left\", \"right\")\n",
    "ESP32.send_LEDMatrix_special(pattern=\"left\", intensity = (255,255,255),timeout=1)\n"
   ]
  },
  {
   "cell_type": "code",
   "execution_count": 4,
   "id": "24769ec2",
   "metadata": {},
   "outputs": [
    {
     "data": {
      "text/plain": [
       "-1"
      ]
     },
     "execution_count": 4,
     "metadata": {},
     "output_type": "execute_result"
    }
   ],
   "source": [
    "# set a funny pattern\n",
    "import numpy as np\n",
    "\n",
    "Nx=8\n",
    "Ny=8\n",
    "led_pattern = np.abs(np.int8(np.random.randn(3,Nx*Ny)*255))\n",
    "ESP32.send_LEDMatrix_array(led_pattern, timeout=1)\n"
   ]
  },
  {
   "cell_type": "markdown",
   "id": "a0ad184a",
   "metadata": {},
   "source": [
    "# SLM"
   ]
  },
  {
   "cell_type": "code",
   "execution_count": 10,
   "id": "d79b1629",
   "metadata": {},
   "outputs": [
    {
     "data": {
      "text/plain": [
       "{'posX': 10,\n",
       " 'posY': 20,\n",
       " 'radius': 30,\n",
       " 'color': 10000,\n",
       " 'slmMode': 'circle',\n",
       " 'task': '/slm_act'}"
      ]
     },
     "execution_count": 10,
     "metadata": {},
     "output_type": "execute_result"
    }
   ],
   "source": [
    "ESP32.send_SLM_circle(posX=10, posY=20, radius=30, color=10000)"
   ]
  },
  {
   "cell_type": "code",
   "execution_count": 11,
   "id": "ffc9477f",
   "metadata": {},
   "outputs": [
    {
     "data": {
      "text/plain": [
       "{'slmMode': 'clear', 'task': '/slm_act'}"
      ]
     },
     "execution_count": 11,
     "metadata": {},
     "output_type": "execute_result"
    }
   ],
   "source": [
    "ESP32.send_SLM_clear()"
   ]
  },
  {
   "cell_type": "code",
   "execution_count": 8,
   "id": "a59c228a",
   "metadata": {},
   "outputs": [
    {
     "data": {
      "image/png": "[encoded data removed]",
      "text/plain": [
       "<Figure size 432x288 with 1 Axes>"
      ]
     },
     "metadata": {
      "needs_background": "light"
     },
     "output_type": "display_data"
    },
    {
     "data": {
      "text/plain": [
       "{'slmMode': 'clear', 'task': '/slm_act'}"
      ]
     },
     "execution_count": 8,
     "metadata": {},
     "output_type": "execute_result"
    }
   ],
   "source": [
    "import matplotlib.pyplot as plt\n",
    "import numpy as np\n",
    "\n",
    "Nx=40\n",
    "Ny=40\n",
    "image = np.random.randint(0,25555,(Nx,Ny))\n",
    "startX = 20\n",
    "startY = 20\n",
    "\n",
    "\n",
    "\n",
    "ESP32.send_SLM_image(image, startX, startY, timeout=3)\n",
    "\n",
    "'''\n",
    "endX = startX+image.shape[0]\n",
    "endY = startY+image.shape[1]\n",
    "path = '/slm_act'\n",
    "payload = {\n",
    "    \"task\": path,\n",
    "    \"color\": image[:].flatten().tolist(),\n",
    "    \"startX\":startX,\n",
    "    \"startY\":startY,\n",
    "    \"endX\":endX,\n",
    "    \"endY\":endY, \n",
    "    \"slmMode\": \"image\"\n",
    "}\n",
    "\n",
    "payload\n",
    "'''\n",
    "plt.imshow(image), plt.show()\n",
    "ESP32.send_SLM_clear()\n",
    "\n",
    "\n"
   ]
  },
  {
   "cell_type": "markdown",
   "id": "2f645a41",
   "metadata": {},
   "source": [
    "# Galvos\n",
    "\n",
    "This is coming soon"
   ]
  },
  {
   "cell_type": "markdown",
   "id": "c9af0617",
   "metadata": {},
   "source": [
    "# Lasers\n",
    "\n",
    "This is coming soon"
   ]
  },
  {
   "cell_type": "markdown",
   "id": "d938a1be",
   "metadata": {},
   "source": [
    "# LEDs\n",
    "\n",
    "This is coming soon"
   ]
  },
  {
   "cell_type": "markdown",
   "id": "7c1794b0",
   "metadata": {},
   "source": [
    "# PID controller \n",
    "\n",
    "Create a feedback loop for constant pressure"
   ]
  }
 ],
 "metadata": {
  "kernelspec": {
   "display_name": "Python 3 (ipykernel)",
   "language": "python",
   "name": "python3"
  },
  "language_info": {
   "codemirror_mode": {
    "name": "ipython",
    "version": 3
   },
   "file_extension": ".py",
   "mimetype": "text/x-python",
   "name": "python",
   "nbconvert_exporter": "python",
   "pygments_lexer": "ipython3",
   "version": "3.8.12"
  }
 },
 "nbformat": 4,
 "nbformat_minor": 5
}
