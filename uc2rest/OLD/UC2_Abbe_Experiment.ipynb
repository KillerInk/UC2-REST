{
 "cells": [
  {
   "cell_type": "markdown",
   "metadata": {},
   "source": [
    "# ESP32 Client Test"
   ]
  },
  {
   "cell_type": "code",
   "execution_count": 52,
   "metadata": {},
   "outputs": [
    {
     "name": "stdout",
     "output_type": "stream",
     "text": [
      "Collecting git+https://gitlab.com/bionanoimaging/nanoimagingpack\n",
      "  Cloning https://gitlab.com/bionanoimaging/nanoimagingpack to /private/var/folders/4w/k4yhf14j7xsbp2jd85yk555r0000gn/T/pip-req-build-tigeme1w\n",
      "  Running command git clone -q https://gitlab.com/bionanoimaging/nanoimagingpack /private/var/folders/4w/k4yhf14j7xsbp2jd85yk555r0000gn/T/pip-req-build-tigeme1w\n",
      "  Resolved https://gitlab.com/bionanoimaging/nanoimagingpack to commit 9d751755ba25765a7a96787a8b24dea0720b504c\n",
      "Requirement already satisfied: numpy>=1.16 in /opt/anaconda3/envs/imswitch/lib/python3.8/site-packages (from NanoImagingPack==2.1.3.dev1) (1.21.2)\n",
      "Requirement already satisfied: scipy in /opt/anaconda3/envs/imswitch/lib/python3.8/site-packages (from NanoImagingPack==2.1.3.dev1) (1.7.1)\n",
      "Requirement already satisfied: tifffile in /opt/anaconda3/envs/imswitch/lib/python3.8/site-packages (from NanoImagingPack==2.1.3.dev1) (2021.10.12)\n",
      "Requirement already satisfied: imageio in /opt/anaconda3/envs/imswitch/lib/python3.8/site-packages (from NanoImagingPack==2.1.3.dev1) (2.9.0)\n",
      "Requirement already satisfied: matplotlib in /opt/anaconda3/envs/imswitch/lib/python3.8/site-packages (from NanoImagingPack==2.1.3.dev1) (3.4.3)\n",
      "Collecting scikit-tensor-py3>0.2.1\n",
      "  Using cached scikit_tensor_py3-0.4.1-py3-none-any.whl (48 kB)\n",
      "Requirement already satisfied: napari in /opt/anaconda3/envs/imswitch/lib/python3.8/site-packages (from NanoImagingPack==2.1.3.dev1) (0.4.7)\n",
      "Collecting numpy>=1.16\n",
      "  Using cached numpy-1.16.6.zip (5.1 MB)\n",
      "Collecting scipy\n",
      "  Using cached scipy-1.3.3-cp38-cp38-macosx_10_9_x86_64.whl (28.1 MB)\n",
      "Requirement already satisfied: pillow in /opt/anaconda3/envs/imswitch/lib/python3.8/site-packages (from imageio->NanoImagingPack==2.1.3.dev1) (8.4.0)\n",
      "Requirement already satisfied: pyparsing>=2.2.1 in /opt/anaconda3/envs/imswitch/lib/python3.8/site-packages (from matplotlib->NanoImagingPack==2.1.3.dev1) (2.4.7)\n",
      "Requirement already satisfied: cycler>=0.10 in /opt/anaconda3/envs/imswitch/lib/python3.8/site-packages (from matplotlib->NanoImagingPack==2.1.3.dev1) (0.10.0)\n",
      "Requirement already satisfied: python-dateutil>=2.7 in /opt/anaconda3/envs/imswitch/lib/python3.8/site-packages (from matplotlib->NanoImagingPack==2.1.3.dev1) (2.8.2)\n",
      "Requirement already satisfied: kiwisolver>=1.0.1 in /opt/anaconda3/envs/imswitch/lib/python3.8/site-packages (from matplotlib->NanoImagingPack==2.1.3.dev1) (1.3.2)\n",
      "Requirement already satisfied: six in /opt/anaconda3/envs/imswitch/lib/python3.8/site-packages (from cycler>=0.10->matplotlib->NanoImagingPack==2.1.3.dev1) (1.16.0)\n",
      "Requirement already satisfied: cachey>=0.2.1 in /opt/anaconda3/envs/imswitch/lib/python3.8/site-packages (from napari->NanoImagingPack==2.1.3.dev1) (0.2.1)\n",
      "Requirement already satisfied: napari-plugin-engine>=0.1.9 in /opt/anaconda3/envs/imswitch/lib/python3.8/site-packages (from napari->NanoImagingPack==2.1.3.dev1) (0.2.0)\n",
      "Requirement already satisfied: vispy>=0.6.4 in /opt/anaconda3/envs/imswitch/lib/python3.8/site-packages (from napari->NanoImagingPack==2.1.3.dev1) (0.9.0)\n",
      "Requirement already satisfied: qtpy>=1.7.0 in /opt/anaconda3/envs/imswitch/lib/python3.8/site-packages (from napari->NanoImagingPack==2.1.3.dev1) (1.11.2)\n",
      "Requirement already satisfied: napari-svg>=0.1.4 in /opt/anaconda3/envs/imswitch/lib/python3.8/site-packages (from napari->NanoImagingPack==2.1.3.dev1) (0.1.5)\n",
      "Requirement already satisfied: psutil>=5.0 in /opt/anaconda3/envs/imswitch/lib/python3.8/site-packages (from napari->NanoImagingPack==2.1.3.dev1) (5.8.0)\n",
      "Requirement already satisfied: PyOpenGL>=3.1.0 in /opt/anaconda3/envs/imswitch/lib/python3.8/site-packages (from napari->NanoImagingPack==2.1.3.dev1) (3.1.5)\n",
      "Requirement already satisfied: typing-extensions in /opt/anaconda3/envs/imswitch/lib/python3.8/site-packages (from napari->NanoImagingPack==2.1.3.dev1) (3.10.0.2)\n",
      "Requirement already satisfied: pydantic>=1.8.1 in /opt/anaconda3/envs/imswitch/lib/python3.8/site-packages (from napari->NanoImagingPack==2.1.3.dev1) (1.8.2)\n",
      "Requirement already satisfied: numpydoc>=0.9.2 in /opt/anaconda3/envs/imswitch/lib/python3.8/site-packages (from napari->NanoImagingPack==2.1.3.dev1) (1.1.0)\n",
      "Requirement already satisfied: dask[array]!=2.28.0,>=2.1.0 in /opt/anaconda3/envs/imswitch/lib/python3.8/site-packages (from napari->NanoImagingPack==2.1.3.dev1) (2021.9.1)\n",
      "Requirement already satisfied: wrapt>=1.11.1 in /opt/anaconda3/envs/imswitch/lib/python3.8/site-packages (from napari->NanoImagingPack==2.1.3.dev1) (1.13.2)\n",
      "Requirement already satisfied: magicgui>=0.2.5 in /opt/anaconda3/envs/imswitch/lib/python3.8/site-packages (from napari->NanoImagingPack==2.1.3.dev1) (0.3.0)\n",
      "Requirement already satisfied: appdirs>=1.4.4 in /opt/anaconda3/envs/imswitch/lib/python3.8/site-packages (from napari->NanoImagingPack==2.1.3.dev1) (1.4.4)\n",
      "Requirement already satisfied: toolz>=0.10.0 in /opt/anaconda3/envs/imswitch/lib/python3.8/site-packages (from napari->NanoImagingPack==2.1.3.dev1) (0.11.1)\n",
      "Requirement already satisfied: PyYAML>=5.1 in /opt/anaconda3/envs/imswitch/lib/python3.8/site-packages (from napari->NanoImagingPack==2.1.3.dev1) (6.0)\n",
      "Requirement already satisfied: napari-console>=0.0.2 in /opt/anaconda3/envs/imswitch/lib/python3.8/site-packages (from napari->NanoImagingPack==2.1.3.dev1) (0.0.4)\n",
      "Requirement already satisfied: jsonschema>=3.2.0 in /opt/anaconda3/envs/imswitch/lib/python3.8/site-packages (from napari->NanoImagingPack==2.1.3.dev1) (4.1.0)\n",
      "Requirement already satisfied: heapdict in /opt/anaconda3/envs/imswitch/lib/python3.8/site-packages (from cachey>=0.2.1->napari->NanoImagingPack==2.1.3.dev1) (1.0.1)\n",
      "Requirement already satisfied: partd>=0.3.10 in /opt/anaconda3/envs/imswitch/lib/python3.8/site-packages (from dask[array]!=2.28.0,>=2.1.0->napari->NanoImagingPack==2.1.3.dev1) (1.2.0)\n",
      "Requirement already satisfied: packaging>=20.0 in /opt/anaconda3/envs/imswitch/lib/python3.8/site-packages (from dask[array]!=2.28.0,>=2.1.0->napari->NanoImagingPack==2.1.3.dev1) (21.0)\n",
      "Requirement already satisfied: fsspec>=0.6.0 in /opt/anaconda3/envs/imswitch/lib/python3.8/site-packages (from dask[array]!=2.28.0,>=2.1.0->napari->NanoImagingPack==2.1.3.dev1) (2021.10.1)\n",
      "Requirement already satisfied: cloudpickle>=1.1.1 in /opt/anaconda3/envs/imswitch/lib/python3.8/site-packages (from dask[array]!=2.28.0,>=2.1.0->napari->NanoImagingPack==2.1.3.dev1) (2.0.0)\n",
      "Collecting dask[array]!=2.28.0,>=2.1.0\n",
      "  Using cached dask-2021.10.0-py3-none-any.whl (1.0 MB)\n",
      "  Using cached dask-2021.9.0-py3-none-any.whl (1.0 MB)\n",
      "  Using cached dask-2021.8.1-py3-none-any.whl (1.0 MB)\n",
      "  Using cached dask-2021.8.0-py3-none-any.whl (995 kB)\n",
      "  Using cached dask-2021.7.2-py3-none-any.whl (987 kB)\n",
      "Requirement already satisfied: attrs>=17.4.0 in /opt/anaconda3/envs/imswitch/lib/python3.8/site-packages (from jsonschema>=3.2.0->napari->NanoImagingPack==2.1.3.dev1) (21.2.0)\n",
      "Requirement already satisfied: pyrsistent!=0.17.0,!=0.17.1,!=0.17.2,>=0.14.0 in /opt/anaconda3/envs/imswitch/lib/python3.8/site-packages (from jsonschema>=3.2.0->napari->NanoImagingPack==2.1.3.dev1) (0.18.0)\n",
      "Requirement already satisfied: docstring-parser in /opt/anaconda3/envs/imswitch/lib/python3.8/site-packages (from magicgui>=0.2.5->napari->NanoImagingPack==2.1.3.dev1) (0.12)\n",
      "Requirement already satisfied: psygnal>=0.1.3 in /opt/anaconda3/envs/imswitch/lib/python3.8/site-packages (from magicgui>=0.2.5->napari->NanoImagingPack==2.1.3.dev1) (0.1.4)\n",
      "Requirement already satisfied: IPython>=7.7.0 in /opt/anaconda3/envs/imswitch/lib/python3.8/site-packages (from napari-console>=0.0.2->napari->NanoImagingPack==2.1.3.dev1) (7.28.0)\n",
      "Requirement already satisfied: qtconsole!=4.7.6,>=4.5.1 in /opt/anaconda3/envs/imswitch/lib/python3.8/site-packages (from napari-console>=0.0.2->napari->NanoImagingPack==2.1.3.dev1) (5.1.1)\n",
      "Requirement already satisfied: ipykernel>=5.2.0 in /opt/anaconda3/envs/imswitch/lib/python3.8/site-packages (from napari-console>=0.0.2->napari->NanoImagingPack==2.1.3.dev1) (6.4.2)\n",
      "Requirement already satisfied: traitlets<6.0,>=4.1.0 in /opt/anaconda3/envs/imswitch/lib/python3.8/site-packages (from ipykernel>=5.2.0->napari-console>=0.0.2->napari->NanoImagingPack==2.1.3.dev1) (5.1.0)\n",
      "Requirement already satisfied: tornado<7.0,>=4.2 in /opt/anaconda3/envs/imswitch/lib/python3.8/site-packages (from ipykernel>=5.2.0->napari-console>=0.0.2->napari->NanoImagingPack==2.1.3.dev1) (6.1)\n",
      "Requirement already satisfied: appnope in /opt/anaconda3/envs/imswitch/lib/python3.8/site-packages (from ipykernel>=5.2.0->napari-console>=0.0.2->napari->NanoImagingPack==2.1.3.dev1) (0.1.2)\n",
      "Requirement already satisfied: ipython-genutils in /opt/anaconda3/envs/imswitch/lib/python3.8/site-packages (from ipykernel>=5.2.0->napari-console>=0.0.2->napari->NanoImagingPack==2.1.3.dev1) (0.2.0)\n",
      "Requirement already satisfied: matplotlib-inline<0.2.0,>=0.1.0 in /opt/anaconda3/envs/imswitch/lib/python3.8/site-packages (from ipykernel>=5.2.0->napari-console>=0.0.2->napari->NanoImagingPack==2.1.3.dev1) (0.1.3)\n",
      "Requirement already satisfied: debugpy<2.0,>=1.0.0 in /opt/anaconda3/envs/imswitch/lib/python3.8/site-packages (from ipykernel>=5.2.0->napari-console>=0.0.2->napari->NanoImagingPack==2.1.3.dev1) (1.5.1)\n",
      "Requirement already satisfied: jupyter-client<8.0 in /opt/anaconda3/envs/imswitch/lib/python3.8/site-packages (from ipykernel>=5.2.0->napari-console>=0.0.2->napari->NanoImagingPack==2.1.3.dev1) (7.0.6)\n",
      "Requirement already satisfied: pickleshare in /opt/anaconda3/envs/imswitch/lib/python3.8/site-packages (from IPython>=7.7.0->napari-console>=0.0.2->napari->NanoImagingPack==2.1.3.dev1) (0.7.5)\n",
      "Requirement already satisfied: setuptools>=18.5 in /opt/anaconda3/envs/imswitch/lib/python3.8/site-packages (from IPython>=7.7.0->napari-console>=0.0.2->napari->NanoImagingPack==2.1.3.dev1) (58.0.4)\n",
      "Requirement already satisfied: pygments in /opt/anaconda3/envs/imswitch/lib/python3.8/site-packages (from IPython>=7.7.0->napari-console>=0.0.2->napari->NanoImagingPack==2.1.3.dev1) (2.10.0)\n",
      "Requirement already satisfied: pexpect>4.3 in /opt/anaconda3/envs/imswitch/lib/python3.8/site-packages (from IPython>=7.7.0->napari-console>=0.0.2->napari->NanoImagingPack==2.1.3.dev1) (4.8.0)\n",
      "Requirement already satisfied: prompt-toolkit!=3.0.0,!=3.0.1,<3.1.0,>=2.0.0 in /opt/anaconda3/envs/imswitch/lib/python3.8/site-packages (from IPython>=7.7.0->napari-console>=0.0.2->napari->NanoImagingPack==2.1.3.dev1) (3.0.20)\n",
      "Requirement already satisfied: decorator in /opt/anaconda3/envs/imswitch/lib/python3.8/site-packages (from IPython>=7.7.0->napari-console>=0.0.2->napari->NanoImagingPack==2.1.3.dev1) (5.1.0)\n",
      "Requirement already satisfied: backcall in /opt/anaconda3/envs/imswitch/lib/python3.8/site-packages (from IPython>=7.7.0->napari-console>=0.0.2->napari->NanoImagingPack==2.1.3.dev1) (0.2.0)\n",
      "Requirement already satisfied: jedi>=0.16 in /opt/anaconda3/envs/imswitch/lib/python3.8/site-packages (from IPython>=7.7.0->napari-console>=0.0.2->napari->NanoImagingPack==2.1.3.dev1) (0.18.0)\n",
      "Requirement already satisfied: parso<0.9.0,>=0.8.0 in /opt/anaconda3/envs/imswitch/lib/python3.8/site-packages (from jedi>=0.16->IPython>=7.7.0->napari-console>=0.0.2->napari->NanoImagingPack==2.1.3.dev1) (0.8.2)\n",
      "Requirement already satisfied: entrypoints in /opt/anaconda3/envs/imswitch/lib/python3.8/site-packages (from jupyter-client<8.0->ipykernel>=5.2.0->napari-console>=0.0.2->napari->NanoImagingPack==2.1.3.dev1) (0.3)\n",
      "Requirement already satisfied: pyzmq>=13 in /opt/anaconda3/envs/imswitch/lib/python3.8/site-packages (from jupyter-client<8.0->ipykernel>=5.2.0->napari-console>=0.0.2->napari->NanoImagingPack==2.1.3.dev1) (22.3.0)\n",
      "Requirement already satisfied: jupyter-core>=4.6.0 in /opt/anaconda3/envs/imswitch/lib/python3.8/site-packages (from jupyter-client<8.0->ipykernel>=5.2.0->napari-console>=0.0.2->napari->NanoImagingPack==2.1.3.dev1) (4.8.1)\n",
      "Requirement already satisfied: nest-asyncio>=1.5 in /opt/anaconda3/envs/imswitch/lib/python3.8/site-packages (from jupyter-client<8.0->ipykernel>=5.2.0->napari-console>=0.0.2->napari->NanoImagingPack==2.1.3.dev1) (1.5.1)\n",
      "Requirement already satisfied: sphinx>=1.6.5 in /opt/anaconda3/envs/imswitch/lib/python3.8/site-packages (from numpydoc>=0.9.2->napari->NanoImagingPack==2.1.3.dev1) (4.2.0)\n",
      "Requirement already satisfied: Jinja2>=2.3 in /opt/anaconda3/envs/imswitch/lib/python3.8/site-packages (from numpydoc>=0.9.2->napari->NanoImagingPack==2.1.3.dev1) (3.0.2)\n",
      "Requirement already satisfied: MarkupSafe>=2.0 in /opt/anaconda3/envs/imswitch/lib/python3.8/site-packages (from Jinja2>=2.3->numpydoc>=0.9.2->napari->NanoImagingPack==2.1.3.dev1) (2.0.1)\n",
      "Requirement already satisfied: locket in /opt/anaconda3/envs/imswitch/lib/python3.8/site-packages (from partd>=0.3.10->dask[array]!=2.28.0,>=2.1.0->napari->NanoImagingPack==2.1.3.dev1) (0.2.1)\n",
      "Requirement already satisfied: ptyprocess>=0.5 in /opt/anaconda3/envs/imswitch/lib/python3.8/site-packages (from pexpect>4.3->IPython>=7.7.0->napari-console>=0.0.2->napari->NanoImagingPack==2.1.3.dev1) (0.7.0)\n",
      "Requirement already satisfied: wcwidth in /opt/anaconda3/envs/imswitch/lib/python3.8/site-packages (from prompt-toolkit!=3.0.0,!=3.0.1,<3.1.0,>=2.0.0->IPython>=7.7.0->napari-console>=0.0.2->napari->NanoImagingPack==2.1.3.dev1) (0.2.5)\n",
      "Requirement already satisfied: sphinxcontrib-jsmath in /opt/anaconda3/envs/imswitch/lib/python3.8/site-packages (from sphinx>=1.6.5->numpydoc>=0.9.2->napari->NanoImagingPack==2.1.3.dev1) (1.0.1)\n",
      "Requirement already satisfied: sphinxcontrib-devhelp in /opt/anaconda3/envs/imswitch/lib/python3.8/site-packages (from sphinx>=1.6.5->numpydoc>=0.9.2->napari->NanoImagingPack==2.1.3.dev1) (1.0.2)\n",
      "Requirement already satisfied: sphinxcontrib-htmlhelp>=2.0.0 in /opt/anaconda3/envs/imswitch/lib/python3.8/site-packages (from sphinx>=1.6.5->numpydoc>=0.9.2->napari->NanoImagingPack==2.1.3.dev1) (2.0.0)\n",
      "Requirement already satisfied: docutils<0.18,>=0.14 in /opt/anaconda3/envs/imswitch/lib/python3.8/site-packages (from sphinx>=1.6.5->numpydoc>=0.9.2->napari->NanoImagingPack==2.1.3.dev1) (0.17.1)\n",
      "Requirement already satisfied: sphinxcontrib-serializinghtml>=1.1.5 in /opt/anaconda3/envs/imswitch/lib/python3.8/site-packages (from sphinx>=1.6.5->numpydoc>=0.9.2->napari->NanoImagingPack==2.1.3.dev1) (1.1.5)\n",
      "Requirement already satisfied: babel>=1.3 in /opt/anaconda3/envs/imswitch/lib/python3.8/site-packages (from sphinx>=1.6.5->numpydoc>=0.9.2->napari->NanoImagingPack==2.1.3.dev1) (2.9.1)\n",
      "Requirement already satisfied: alabaster<0.8,>=0.7 in /opt/anaconda3/envs/imswitch/lib/python3.8/site-packages (from sphinx>=1.6.5->numpydoc>=0.9.2->napari->NanoImagingPack==2.1.3.dev1) (0.7.12)\n",
      "Requirement already satisfied: requests>=2.5.0 in /opt/anaconda3/envs/imswitch/lib/python3.8/site-packages (from sphinx>=1.6.5->numpydoc>=0.9.2->napari->NanoImagingPack==2.1.3.dev1) (2.26.0)\n",
      "Requirement already satisfied: snowballstemmer>=1.1 in /opt/anaconda3/envs/imswitch/lib/python3.8/site-packages (from sphinx>=1.6.5->numpydoc>=0.9.2->napari->NanoImagingPack==2.1.3.dev1) (2.1.0)\n",
      "Requirement already satisfied: sphinxcontrib-qthelp in /opt/anaconda3/envs/imswitch/lib/python3.8/site-packages (from sphinx>=1.6.5->numpydoc>=0.9.2->napari->NanoImagingPack==2.1.3.dev1) (1.0.3)\n",
      "Requirement already satisfied: imagesize in /opt/anaconda3/envs/imswitch/lib/python3.8/site-packages (from sphinx>=1.6.5->numpydoc>=0.9.2->napari->NanoImagingPack==2.1.3.dev1) (1.2.0)\n",
      "Requirement already satisfied: sphinxcontrib-applehelp in /opt/anaconda3/envs/imswitch/lib/python3.8/site-packages (from sphinx>=1.6.5->numpydoc>=0.9.2->napari->NanoImagingPack==2.1.3.dev1) (1.0.2)\n",
      "Requirement already satisfied: pytz>=2015.7 in /opt/anaconda3/envs/imswitch/lib/python3.8/site-packages (from babel>=1.3->sphinx>=1.6.5->numpydoc>=0.9.2->napari->NanoImagingPack==2.1.3.dev1) (2021.3)\n",
      "Requirement already satisfied: urllib3<1.27,>=1.21.1 in /opt/anaconda3/envs/imswitch/lib/python3.8/site-packages (from requests>=2.5.0->sphinx>=1.6.5->numpydoc>=0.9.2->napari->NanoImagingPack==2.1.3.dev1) (1.26.7)\n",
      "Requirement already satisfied: charset-normalizer~=2.0.0 in /opt/anaconda3/envs/imswitch/lib/python3.8/site-packages (from requests>=2.5.0->sphinx>=1.6.5->numpydoc>=0.9.2->napari->NanoImagingPack==2.1.3.dev1) (2.0.7)\n",
      "Requirement already satisfied: idna<4,>=2.5 in /opt/anaconda3/envs/imswitch/lib/python3.8/site-packages (from requests>=2.5.0->sphinx>=1.6.5->numpydoc>=0.9.2->napari->NanoImagingPack==2.1.3.dev1) (3.3)\n",
      "Requirement already satisfied: certifi>=2017.4.17 in /opt/anaconda3/envs/imswitch/lib/python3.8/site-packages (from requests>=2.5.0->sphinx>=1.6.5->numpydoc>=0.9.2->napari->NanoImagingPack==2.1.3.dev1) (2021.10.8)\n",
      "Requirement already satisfied: freetype-py in /opt/anaconda3/envs/imswitch/lib/python3.8/site-packages (from vispy>=0.6.4->napari->NanoImagingPack==2.1.3.dev1) (2.2.0)\n",
      "Requirement already satisfied: hsluv in /opt/anaconda3/envs/imswitch/lib/python3.8/site-packages (from vispy>=0.6.4->napari->NanoImagingPack==2.1.3.dev1) (5.0.2)\n",
      "Building wheels for collected packages: NanoImagingPack, numpy\n",
      "  Building wheel for NanoImagingPack (setup.py) ... \u001b[?25ldone\n",
      "\u001b[?25h  Created wheel for NanoImagingPack: filename=NanoImagingPack-2.1.3.dev1-py3-none-any.whl size=5096842 sha256=677975cc5fe1556d6e19512219332d291f90188332dd0684abebe7b854150e23\n",
      "  Stored in directory: /private/var/folders/4w/k4yhf14j7xsbp2jd85yk555r0000gn/T/pip-ephem-wheel-cache-vre_xogx/wheels/02/c2/98/d0a7a91e4381a31a6b81996275ef3f7a2ee0b746f4a81dece1\n",
      "  Building wheel for numpy (setup.py) ... \u001b[?25ldone\n",
      "\u001b[?25h  Created wheel for numpy: filename=numpy-1.16.6-cp38-cp38-macosx_10_15_x86_64.whl size=3529735 sha256=3e654227bf6f13a6f1aa0600755f65efd156ebd004c7678c8cb39b4c95347638\n",
      "  Stored in directory: /Users/bene/Library/Caches/pip/wheels/22/6f/a6/069db0c95f9bb6b73e07da014891c58460fef1eb84f49576f0\n",
      "Successfully built NanoImagingPack numpy\n",
      "Installing collected packages: numpy, dask, scipy, scikit-tensor-py3, NanoImagingPack\n",
      "  Attempting uninstall: numpy\n",
      "    Found existing installation: numpy 1.21.2\n",
      "    Uninstalling numpy-1.21.2:\n",
      "      Successfully uninstalled numpy-1.21.2\n",
      "  Attempting uninstall: dask\n",
      "    Found existing installation: dask 2021.9.1\n",
      "    Uninstalling dask-2021.9.1:\n",
      "      Successfully uninstalled dask-2021.9.1\n",
      "  Attempting uninstall: scipy\n",
      "    Found existing installation: scipy 1.7.1\n",
      "    Uninstalling scipy-1.7.1:\n",
      "      Successfully uninstalled scipy-1.7.1\n",
      "\u001b[31mERROR: pip's dependency resolver does not currently take into account all the packages that are installed. This behaviour is the source of the following dependency conflicts.\n",
      "pyqtgraph 0.12.3 requires numpy>=1.17.0, but you have numpy 1.16.6 which is incompatible.\n",
      "opencv-python 4.5.4.58 requires numpy>=1.17.3, but you have numpy 1.16.6 which is incompatible.\n",
      "h5py 3.4.0 requires numpy>=1.17.5; python_version == \"3.8\", but you have numpy 1.16.6 which is incompatible.\n",
      "imswitch 1.2.1 requires numpy>=1.19, but you have numpy 1.16.6 which is incompatible.\u001b[0m\n",
      "Successfully installed NanoImagingPack-2.1.3.dev1 dask-2021.7.2 numpy-1.16.6 scikit-tensor-py3-0.4.1 scipy-1.3.3\n"
     ]
    }
   ],
   "source": [
    "!pip install git+https://gitlab.com/bionanoimaging/nanoimagingpack\n",
    "from __future__ import print_function\n",
    "from ipywidgets import interact, interactive, fixed, interact_manual\n",
    "import ipywidgets as widgets\n",
    "\n",
    "import requests\n",
    "import json\n",
    "import time\n",
    "import io\n",
    "#import PIL.Image\n",
    "import numpy as np\n",
    "import functools\n",
    "import matplotlib.pyplot as plt\n",
    "import ESP32_restapi_client as espc\n",
    "\n"
   ]
  },
  {
   "cell_type": "code",
   "execution_count": 7,
   "metadata": {},
   "outputs": [],
   "source": [
    "host = '192.168.43.66'\n",
    "esp32 = espc.ESP32Client(host, port=80)"
   ]
  },
  {
   "cell_type": "code",
   "execution_count": 55,
   "metadata": {},
   "outputs": [],
   "source": [
    "#%%\n",
    "mask = np.random.randn(320,240)\n",
    "image = np.zeros((320,240))\n",
    "image[mask >.2]=255\n",
    "#image = np.ones((320,240))*255\n",
    "#image = np.ones((320,240))*255\n",
    "#image[100:110,:]=0\n",
    "\n",
    "esp32.send_jpeg(image)\n"
   ]
  },
  {
   "cell_type": "code",
   "execution_count": 86,
   "metadata": {},
   "outputs": [
    {
     "data": {
      "image/png": "[encoded data removed]",
      "text/plain": [
       "<Figure size 432x288 with 2 Axes>"
      ]
     },
     "metadata": {
      "needs_background": "light"
     },
     "output_type": "display_data"
    }
   ],
   "source": [
    "#%%\n",
    "Nx = 320\n",
    "Ny = 240\n",
    "decenter_x = 0\n",
    "mask = np.random.randn(Nx,Ny)\n",
    "image = np.zeros((320,240))\n",
    "image[mask >.2]=1\n",
    "\n",
    "cx = 500\n",
    "cy = 0\n",
    "\n",
    "mask=nip.rr((Nx,Ny))+cx*nip.xx((Nx, Ny), freq='ftfreq')\n",
    "mask = mask <10 \n",
    "\n",
    "if(1):\n",
    "    image = np.ones((Nx,Ny))*255\n",
    "    dblock = 5\n",
    "    image[85:95,65:70] = 0\n",
    "    image = np.uint8(mask*255)\n",
    "    #esp32.send_jpeg(image)\n",
    "\n",
    "plt.imshow(image), plt.colorbar()\n",
    "plt.show()"
   ]
  },
  {
   "cell_type": "code",
   "execution_count": 46,
   "metadata": {},
   "outputs": [
    {
     "name": "stdout",
     "output_type": "stream",
     "text": [
      "http://192.168.43.66:80/matrix\n",
      "{'red': [0.0, 0.0, 0.0, 0.0, 0.0, 255.0, 255.0, 0.0, 0.0, 255.0, 255.0, 0.0, 0.0, 0.0, 0.0, 0.0], 'green': [0.0, 0.0, 0.0, 0.0, 0.0, 255.0, 255.0, 0.0, 0.0, 255.0, 255.0, 0.0, 0.0, 0.0, 0.0, 0.0], 'blue': [0.0, 0.0, 0.0, 0.0, 0.0, 255.0, 255.0, 0.0, 0.0, 255.0, 255.0, 0.0, 0.0, 0.0, 0.0, 0.0]}\n"
     ]
    }
   ],
   "source": [
    "I_max = 255\n",
    "N_leds = 4\n",
    "led_pattern = np.array((np.reshape(np.random.randint(0,I_max ,N_leds**2),(N_leds,N_leds)),\n",
    "               np.reshape(np.random.randint(0,I_max ,N_leds**2),(N_leds,N_leds)),\n",
    "               np.reshape(np.random.randint(0,I_max ,N_leds**2),(N_leds,N_leds))))\n",
    "\n",
    "led_pattern = np.ones((3,N_leds,N_leds))*0\n",
    "led_pattern[:,1:3,1:3]=255\n",
    "led_pattern[:,2,2]=255\n",
    "\n",
    "#led_pattern[8,:,:]#= (255,255,255)\n",
    "esp32.send_ledmatrix(led_pattern)\n",
    "\n"
   ]
  },
  {
   "cell_type": "code",
   "execution_count": 37,
   "metadata": {},
   "outputs": [
    {
     "data": {
      "text/plain": [
       "array([[  0.,   0.,   0., ...,   0., 255., 255.],\n",
       "       [255.,   0.,   0., ..., 255.,   0.,   0.],\n",
       "       [  0., 255., 255., ...,   0.,   0., 255.],\n",
       "       ...,\n",
       "       [  0.,   0., 255., ..., 255.,   0.,   0.],\n",
       "       [  0.,   0.,   0., ...,   0.,   0., 255.],\n",
       "       [  0.,   0.,   0., ..., 255.,   0.,   0.]])"
      ]
     },
     "execution_count": 37,
     "metadata": {},
     "output_type": "execute_result"
    }
   ],
   "source": [
    "image"
   ]
  },
  {
   "cell_type": "code",
   "execution_count": null,
   "metadata": {},
   "outputs": [],
   "source": []
  },
  {
   "cell_type": "code",
   "execution_count": 212,
   "metadata": {},
   "outputs": [
    {
     "data": {
      "text/plain": [
       "{}"
      ]
     },
     "execution_count": 212,
     "metadata": {},
     "output_type": "execute_result"
    }
   ],
   "source": [
    "esp32.move_z(steps=-10,  speed=700)"
   ]
  },
  {
   "cell_type": "code",
   "execution_count": null,
   "metadata": {},
   "outputs": [],
   "source": [
    "esp32.set_led(colour=(255,0,0))"
   ]
  }
 ],
 "metadata": {
  "interpreter": {
   "hash": "3062930b7f4a5e50e53e4c23727a6be63ddd47ffcb562a158d1c327058ccaebe"
  },
  "kernelspec": {
   "display_name": "Python 3.8.12 64-bit ('imswitch': conda)",
   "name": "python3"
  },
  "language_info": {
   "codemirror_mode": {
    "name": "ipython",
    "version": 3
   },
   "file_extension": ".py",
   "mimetype": "text/x-python",
   "name": "python",
   "nbconvert_exporter": "python",
   "pygments_lexer": "ipython3",
   "version": "3.8.12"
  }
 },
 "nbformat": 4,
 "nbformat_minor": 4
}
