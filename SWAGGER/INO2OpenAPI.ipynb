{
 "cells": [
  {
   "cell_type": "code",
   "execution_count": 4,
   "metadata": {},
   "outputs": [
    {
     "name": "stdout",
     "output_type": "stream",
     "text": [
      "The autoreload extension is already loaded. To reload it, use:\n",
      "  %reload_ext autoreload\n"
     ]
    }
   ],
   "source": [
    "%load_ext autoreload \n",
    "%autoreload 2"
   ]
  },
  {
   "cell_type": "code",
   "execution_count": 10,
   "metadata": {},
   "outputs": [],
   "source": [
    "import re\n",
    "import func_name_extract_line as fnel\n",
    "import json"
   ]
  },
  {
   "cell_type": "code",
   "execution_count": 7,
   "metadata": {},
   "outputs": [
    {
     "name": "stdout",
     "output_type": "stream",
     "text": [
      "Found Endoints: 1\n",
      "  String tag = \"Stepper Motor\";\n",
      "\n",
      "{'endpoint': {'linecontent': '  server.on(\"/stepper/move\", HTTP_GET, handleStepper);\\n', 'linenumber': 53, 'http_method': 'get', 'fct_endpoint': 'handleStepper', 'endpoint': '  /stepper/move'}, 'response': {'response_code': '200', 'response_type': '\"application/json\"', 'response_val': 'answer'}, 'variables': {'variables': [{'steps': 'int'}, {'speed': 'int'}]}, 'documentation': {'tag': ' Stepper Motor', 'summary': ' Control a bipolar stepper motor', 'description': ' '}}\n"
     ]
    }
   ],
   "source": [
    "from INO2OpenAPI import INO2OpenAPI\n",
    "path = '/Users/bene/Dropbox/Dokumente/Promotion/PROJECTS/UC2-REST/SWAGGER/'\n",
    "filename = path+'/REST_SwaggerUI/REST_SwaggerUI.ino'\n",
    "\n",
    "converter = INO2OpenAPI(filename)\n",
    "converter.convert()\n",
    "\n",
    "\n"
   ]
  },
  {
   "cell_type": "code",
   "execution_count": 8,
   "metadata": {},
   "outputs": [
    {
     "ename": "NameError",
     "evalue": "name 'json' is not defined",
     "output_type": "error",
     "traceback": [
      "\u001b[0;31m---------------------------------------------------------------------------\u001b[0m",
      "\u001b[0;31mNameError\u001b[0m                                 Traceback (most recent call last)",
      "\u001b[0;32m/var/folders/4w/k4yhf14j7xsbp2jd85yk555r0000gn/T/ipykernel_23933/705907541.py\u001b[0m in \u001b[0;36m<module>\u001b[0;34m\u001b[0m\n\u001b[0;32m----> 1\u001b[0;31m \u001b[0;32mclass\u001b[0m \u001b[0mSetEncoder\u001b[0m\u001b[0;34m(\u001b[0m\u001b[0mjson\u001b[0m\u001b[0;34m.\u001b[0m\u001b[0mJSONEncoder\u001b[0m\u001b[0;34m)\u001b[0m\u001b[0;34m:\u001b[0m\u001b[0;34m\u001b[0m\u001b[0;34m\u001b[0m\u001b[0m\n\u001b[0m\u001b[1;32m      2\u001b[0m     \u001b[0;32mdef\u001b[0m \u001b[0mdefault\u001b[0m\u001b[0;34m(\u001b[0m\u001b[0mself\u001b[0m\u001b[0;34m,\u001b[0m \u001b[0mobj\u001b[0m\u001b[0;34m)\u001b[0m\u001b[0;34m:\u001b[0m\u001b[0;34m\u001b[0m\u001b[0;34m\u001b[0m\u001b[0m\n\u001b[1;32m      3\u001b[0m         \u001b[0;32mif\u001b[0m \u001b[0misinstance\u001b[0m\u001b[0;34m(\u001b[0m\u001b[0mobj\u001b[0m\u001b[0;34m,\u001b[0m \u001b[0mset\u001b[0m\u001b[0;34m)\u001b[0m\u001b[0;34m:\u001b[0m\u001b[0;34m\u001b[0m\u001b[0;34m\u001b[0m\u001b[0m\n\u001b[1;32m      4\u001b[0m             \u001b[0;32mreturn\u001b[0m \u001b[0mlist\u001b[0m\u001b[0;34m(\u001b[0m\u001b[0mobj\u001b[0m\u001b[0;34m)\u001b[0m\u001b[0;34m\u001b[0m\u001b[0;34m\u001b[0m\u001b[0m\n\u001b[1;32m      5\u001b[0m         \u001b[0;32mreturn\u001b[0m \u001b[0mjson\u001b[0m\u001b[0;34m.\u001b[0m\u001b[0mJSONEncoder\u001b[0m\u001b[0;34m.\u001b[0m\u001b[0mdefault\u001b[0m\u001b[0;34m(\u001b[0m\u001b[0mself\u001b[0m\u001b[0;34m,\u001b[0m \u001b[0mobj\u001b[0m\u001b[0;34m)\u001b[0m\u001b[0;34m\u001b[0m\u001b[0;34m\u001b[0m\u001b[0m\n",
      "\u001b[0;31mNameError\u001b[0m: name 'json' is not defined"
     ]
    }
   ],
   "source": []
  },
  {
   "cell_type": "code",
   "execution_count": 12,
   "metadata": {},
   "outputs": [],
   "source": [
    "class SetEncoder(json.JSONEncoder):\n",
    "    def default(self, obj):\n",
    "        if isinstance(obj, set):\n",
    "            return list(obj)\n",
    "        return json.JSONEncoder.default(self, obj)\n",
    "\n",
    "\n",
    "\n",
    "paths = []\n",
    "\n",
    "for iendpoint in range(converter.N_endpoints):\n",
    "    path = converter.apidefiitions[iendpoint].endpoint['endpoint']\n",
    "    http_method = converter.apidefiitions[iendpoint].endpoint['http_method']\n",
    "    tag = converter.apidefiitions[iendpoint].documentation['tag']\n",
    "    summary = converter.apidefiitions[iendpoint].documentation['summary']\n",
    "    description = converter.apidefiitions[iendpoint].documentation['description']\n",
    "    response_code = converter.apidefiitions[iendpoint].response['response_code']\n",
    "    response_type = converter.apidefiitions[iendpoint].response['response_type']\n",
    "    response_val = converter.apidefiitions[iendpoint].response['response_val']\n",
    "    parameters = converter.apidefiitions[iendpoint].variables['variables']\n",
    "\n",
    "\n",
    "    path={\n",
    "        path : {\n",
    "            http_method : {\n",
    "                'tags': [\n",
    "                    tag\n",
    "                ],\n",
    "                \"summary\": summary,\n",
    "                \"description\": description,\n",
    "                \"operationId\": http_method+path.replace('/',\"\"),\n",
    "                \"required\": True,\n",
    "                \"schema\": {\n",
    "                    \"$ref\": \"#/definitions/Pet\"\n",
    "                },\n",
    "                \"produces\": [\n",
    "                    response_type\n",
    "                ],\n",
    "                \"parameters\": parameters,\n",
    "                \"responses\": {\n",
    "                    response_code: {\n",
    "                        \"description\": \"A placeholder for the description\",\n",
    "                        \"schema\": {\n",
    "                            \"$ref\": \"#/definitions/temperatureMeasurement\"\n",
    "                        }\n",
    "                    }\n",
    "                }\n",
    "            }\n",
    "        }\n",
    "    }\n",
    "    paths.append(path)\n",
    "\n",
    "export = {\"paths\":paths}\n",
    "export = json.loads(json.dumps(export, default=lambda o: '<not serializable>'))\n",
    "    \n",
    "    \n",
    "    \n",
    "swaggerdict = {\n",
    "    \"swagger\": \"2.0\",\n",
    "    \"info\": {\n",
    "        \"description\": \"This is a placeholder description.\",\n",
    "        \"version\": \"1.0.0\",\n",
    "        \"title\": \"UC2 application\"\n",
    "        },\n",
    "    \"host\": \"0.0.0.0\",\n",
    "    \"tags\": [{\n",
    "      \"name\": \"Temperature\",\n",
    "      \"description\": \"Getting temperature measurements\"\n",
    "    }],\n",
    "      \"paths\": {\n",
    "          json.dumps(export)\n",
    "      }\n",
    "}\n",
    "\n",
    "\n",
    "import json\n",
    "\n",
    "with open('openapi.json', 'w') as f:\n",
    "    json.dump(swaggerdict, f, ensure_ascii=False, indent=2, cls=SetEncoder) "
   ]
  },
  {
   "cell_type": "code",
   "execution_count": null,
   "metadata": {},
   "outputs": [],
   "source": []
  },
  {
   "cell_type": "code",
   "execution_count": null,
   "metadata": {},
   "outputs": [],
   "source": [
    "\n",
    "\n",
    "swaggerdict"
   ]
  },
  {
   "cell_type": "code",
   "execution_count": null,
   "metadata": {},
   "outputs": [],
   "source": []
  },
  {
   "cell_type": "code",
   "execution_count": null,
   "metadata": {},
   "outputs": [],
   "source": []
  },
  {
   "cell_type": "code",
   "execution_count": null,
   "metadata": {},
   "outputs": [],
   "source": []
  },
  {
   "cell_type": "code",
   "execution_count": null,
   "metadata": {},
   "outputs": [],
   "source": []
  },
  {
   "cell_type": "code",
   "execution_count": null,
   "metadata": {},
   "outputs": [],
   "source": [
    "response_type\n",
    "response_code"
   ]
  },
  {
   "cell_type": "markdown",
   "metadata": {},
   "source": []
  },
  {
   "cell_type": "code",
   "execution_count": null,
   "metadata": {},
   "outputs": [],
   "source": []
  },
  {
   "cell_type": "code",
   "execution_count": null,
   "metadata": {},
   "outputs": [],
   "source": [
    "fct_codes"
   ]
  }
 ],
 "metadata": {
  "interpreter": {
   "hash": "7e0b4c7bcc57fa321d9ed93045b19436fc14ee561979f5319cd55a29d7ed0d86"
  },
  "kernelspec": {
   "display_name": "Python 3.8.12 64-bit ('imswitch': conda)",
   "language": "python",
   "name": "python3"
  },
  "language_info": {
   "codemirror_mode": {
    "name": "ipython",
    "version": 3
   },
   "file_extension": ".py",
   "mimetype": "text/x-python",
   "name": "python",
   "nbconvert_exporter": "python",
   "pygments_lexer": "ipython3",
   "version": "3.8.12"
  },
  "orig_nbformat": 4
 },
 "nbformat": 4,
 "nbformat_minor": 2
}
