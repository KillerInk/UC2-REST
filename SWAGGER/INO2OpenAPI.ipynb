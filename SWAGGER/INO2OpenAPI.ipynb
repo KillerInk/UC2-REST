{
 "cells": [
  {
   "cell_type": "code",
   "execution_count": 2,
   "metadata": {},
   "outputs": [],
   "source": [
    "import json\n",
    "# Opening JSON file\n",
    "f = open('swagger.json')\n",
    " \n",
    "# returns JSON object as\n",
    "# a dictionary\n",
    "data = json.load(f)\n",
    " \n",
    "data['paths']\n"
   ]
  },
  {
   "cell_type": "code",
   "execution_count": 4,
   "metadata": {},
   "outputs": [],
   "source": []
  },
  {
   "cell_type": "code",
   "execution_count": 9,
   "metadata": {},
   "outputs": [
    {
     "data": {
      "text/plain": [
       "{'/temperature': {'get': {'tags': ['Temperature'],\n",
       "   'summary': 'Endpoint for getting temperature measurements',\n",
       "   'description': '',\n",
       "   'operationId': 'getTemperature',\n",
       "   'responses': {'200': {'description': 'A list of temperature measurements',\n",
       "     'schema': {'$ref': '#/definitions/temperatureMeasurement'}}}}}}"
      ]
     },
     "execution_count": 9,
     "metadata": {},
     "output_type": "execute_result"
    }
   ],
   "source": []
  },
  {
   "cell_type": "code",
   "execution_count": 1,
   "metadata": {},
   "outputs": [],
   "source": [
    "%load_ext autoreload \n",
    "%autoreload 2\n",
    "\n"
   ]
  },
  {
   "cell_type": "code",
   "execution_count": 7,
   "metadata": {},
   "outputs": [
    {
     "name": "stdout",
     "output_type": "stream",
     "text": [
      "['setup', 'loop', 'handleStepper', 'handleSwaggerJson', 'handleSwaggerUI', 'run_motor_x']\n",
      "[['server', 9, 22], ['stepper_x', 30, 62], ['loop', 65, 67], ['handleStepper', 71, 88], ['handleSwaggerJson', 91, 96], ['handleSwaggerUI', 99, 103], ['run_motor_x', 109, 122], ['sgn', 124, 128]]\n"
     ]
    }
   ],
   "source": []
  },
  {
   "cell_type": "code",
   "execution_count": null,
   "metadata": {},
   "outputs": [],
   "source": [
    "import re\n",
    "import func_name_extract_line as fnel\n"
   ]
  },
  {
   "cell_type": "code",
   "execution_count": 255,
   "metadata": {},
   "outputs": [
    {
     "name": "stdout",
     "output_type": "stream",
     "text": [
      "Found Endoints: 1\n"
     ]
    },
    {
     "data": {
      "text/plain": [
       "{'endpoint': {'linecontent': '  server.on(\"/stepper/move\", HTTP_GET, handleStepper);\\n',\n",
       "  'linenumber': 53,\n",
       "  'http_method': 'get',\n",
       "  'fct_endpoint': 'handleStepper',\n",
       "  'endpoint': '  /stepper/move'},\n",
       " 'response': {'response_code': '200',\n",
       "  'response_type': '\"application/json\"',\n",
       "  'response_val': 'answer'},\n",
       " 'variables': {'variables': [{'variable_strig': 'steps',\n",
       "    'variable_type': 'int'},\n",
       "   {'variable_strig': 'speed', 'variable_type': 'int'}]}}"
      ]
     },
     "execution_count": 255,
     "metadata": {},
     "output_type": "execute_result"
    }
   ],
   "source": [
    "\n",
    "\n",
    "filename = './REST_SwaggerUI/REST_SwaggerUI.ino'\n",
    "\n",
    "converter = INO2OpenAPI(filename)\n",
    "converter.convert()\n",
    "\n",
    "converter.apidefiitions[0].__dict__"
   ]
  },
  {
   "cell_type": "code",
   "execution_count": 231,
   "metadata": {},
   "outputs": [
    {
     "data": {
      "text/plain": [
       "'[steps]'"
      ]
     },
     "execution_count": 231,
     "metadata": {},
     "output_type": "execute_result"
    }
   ],
   "source": [
    "\"int steps = jsonDocument[\\\"steps\\\"];\".split(\"jsonDocument\")[-1].replace(\"\\[\",\"\").replace(\";\",\"\").replace(\"\\\"\",\"\").replace(\"'\",\"\")"
   ]
  },
  {
   "cell_type": "code",
   "execution_count": 238,
   "metadata": {},
   "outputs": [
    {
     "name": "stdout",
     "output_type": "stream",
     "text": [
      "steps\n"
     ]
    }
   ],
   "source": [
    "variable_string = \"int steps = jsonDocument[\\\"steps\\\"];\"\n",
    "result = re.search(r\"\\[\\\"([A-Za-z0-9_]+)\\\"\\]\", variable_string).group(1)\n",
    "\n"
   ]
  },
  {
   "cell_type": "code",
   "execution_count": 145,
   "metadata": {},
   "outputs": [
    {
     "data": {
      "text/plain": [
       "'}\\n'"
      ]
     },
     "execution_count": 145,
     "metadata": {},
     "output_type": "execute_result"
    }
   ],
   "source": [
    "fct_code[iline]"
   ]
  },
  {
   "cell_type": "code",
   "execution_count": null,
   "metadata": {},
   "outputs": [],
   "source": []
  },
  {
   "cell_type": "markdown",
   "metadata": {},
   "source": []
  },
  {
   "cell_type": "code",
   "execution_count": null,
   "metadata": {},
   "outputs": [],
   "source": []
  },
  {
   "cell_type": "code",
   "execution_count": 81,
   "metadata": {},
   "outputs": [
    {
     "data": {
      "text/plain": [
       "[['  if (server.hasArg(\"plain\") == false) {\\n',\n",
       "  '    //handle error here\\n',\n",
       "  '  }\\n',\n",
       "  '  String body = server.arg(\"plain\");\\n',\n",
       "  '  deserializeJson(jsonDocument, body);\\n',\n",
       "  '\\n',\n",
       "  '  // Extract Values and move \\n',\n",
       "  '  int steps = jsonDocument[\"steps\"];\\n',\n",
       "  '  int speed = jsonDocument[\"speed\"];\\n',\n",
       "  '\\n',\n",
       "  '  // action\\n',\n",
       "  '  run_motor_x(steps, speed);\\n',\n",
       "  '\\n',\n",
       "  '  char * answer = \"[{\\\\\"value\\\\\":\\\\\"10.5\\\\\",\\\\\"timestamp\\\\\":\\\\\"22/10/2017 10:10\\\\\"},{\\\\\"value\\\\\":\\\\\"11.0\\\\\",\\\\\"timestamp\\\\\":\\\\\"22/10/2017 10:20\\\\\"}]\";\\n',\n",
       "  '  server.send(200, \"application/json\", answer);\\n',\n",
       "  '\\n',\n",
       "  '}\\n']]"
      ]
     },
     "execution_count": 81,
     "metadata": {},
     "output_type": "execute_result"
    }
   ],
   "source": [
    "fct_codes"
   ]
  }
 ],
 "metadata": {
  "interpreter": {
   "hash": "7e0b4c7bcc57fa321d9ed93045b19436fc14ee561979f5319cd55a29d7ed0d86"
  },
  "kernelspec": {
   "display_name": "Python 3.8.12 64-bit ('imswitch': conda)",
   "language": "python",
   "name": "python3"
  },
  "language_info": {
   "codemirror_mode": {
    "name": "ipython",
    "version": 3
   },
   "file_extension": ".py",
   "mimetype": "text/x-python",
   "name": "python",
   "nbconvert_exporter": "python",
   "pygments_lexer": "ipython3",
   "version": "3.8.12"
  },
  "orig_nbformat": 4
 },
 "nbformat": 4,
 "nbformat_minor": 2
}
