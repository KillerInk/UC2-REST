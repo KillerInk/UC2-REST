{
 "cells": [
  {
   "cell_type": "code",
   "execution_count": 13,
   "metadata": {},
   "outputs": [
    {
     "name": "stdout",
     "output_type": "stream",
     "text": [
      "The autoreload extension is already loaded. To reload it, use:\n",
      "  %reload_ext autoreload\n"
     ]
    }
   ],
   "source": [
    "%load_ext autoreload \n",
    "%autoreload 2"
   ]
  },
  {
   "cell_type": "code",
   "execution_count": 20,
   "metadata": {},
   "outputs": [],
   "source": [
    "import re\n",
    "import func_name_extract_line as fnel\n",
    "import json"
   ]
  },
  {
   "cell_type": "code",
   "execution_count": null,
   "metadata": {},
   "outputs": [
    {
     "name": "stdout",
     "output_type": "stream",
     "text": [
      "Found Endoints: 1\n",
      "  String tag = \"Stepper Motor\";\n",
      "\n"
     ]
    }
   ],
   "source": [
    "from INO2OpenAPI import INO2OpenAPI\n",
    "path = '/Users/bene/Dropbox/Dokumente/Promotion/PROJECTS/UC2-REST/SWAGGER/'\n",
    "filename = path+'/REST_SwaggerUI/REST_SwaggerUI.ino'\n",
    "\n",
    "converter = INO2OpenAPI(filename)\n",
    "converter.convert()\n",
    "\n",
    "\n"
   ]
  },
  {
   "cell_type": "code",
   "execution_count": null,
   "metadata": {},
   "outputs": [],
   "source": []
  },
  {
   "cell_type": "code",
   "execution_count": 88,
   "metadata": {},
   "outputs": [
    {
     "ename": "SyntaxError",
     "evalue": "invalid syntax (2026290670.py, line 55)",
     "output_type": "error",
     "traceback": [
      "\u001b[0;36m  File \u001b[0;32m\"/var/folders/4w/k4yhf14j7xsbp2jd85yk555r0000gn/T/ipykernel_23933/2026290670.py\"\u001b[0;36m, line \u001b[0;32m55\u001b[0m\n\u001b[0;31m    parameters,\u001b[0m\n\u001b[0m              ^\u001b[0m\n\u001b[0;31mSyntaxError\u001b[0m\u001b[0;31m:\u001b[0m invalid syntax\n"
     ]
    }
   ],
   "source": [
    "class SetEncoder(json.JSONEncoder):\n",
    "    def default(self, obj):\n",
    "        if isinstance(obj, set):\n",
    "            return list(obj)\n",
    "        return json.JSONEncoder.default(self, obj)\n",
    "\n",
    "\n",
    "\n",
    "paths = []\n",
    "tags = []\n",
    "definitions = []\n",
    "responses = []\n",
    "\n",
    "for iendpoint in range(converter.N_endpoints):\n",
    "    path = converter.apidefiitions[iendpoint].endpoint['endpoint']\n",
    "    http_method = converter.apidefiitions[iendpoint].endpoint['http_method']\n",
    "    tag = converter.apidefiitions[iendpoint].documentation['tag']\n",
    "    summary = converter.apidefiitions[iendpoint].documentation['summary']\n",
    "    description = converter.apidefiitions[iendpoint].documentation['description']\n",
    "    response_code = converter.apidefiitions[iendpoint].response['response_code']\n",
    "    response_type = converter.apidefiitions[iendpoint].response['response_type']\n",
    "    response_val = converter.apidefiitions[iendpoint].response['response_val']\n",
    "    parameters = converter.apidefiitions[iendpoint].variables['variables']\n",
    "\n",
    "    _tag = {\n",
    "        \"name\": tag,\n",
    "        \"description\": description\n",
    "        }\n",
    "\n",
    "\n",
    "    _response = {response_code: {\n",
    "        \"description\": \"A placeholder for the description\",\n",
    "        \"schema\": {\n",
    "            \"$ref\": \"#/definitions/\"+path.replace('/',\"\")\n",
    "            }}}\n",
    "    \n",
    "    \n",
    "    _path={\n",
    "        path : {\n",
    "            http_method : {\n",
    "                'tags': [\n",
    "                    tag\n",
    "                ],\n",
    "                \"summary\": summary,\n",
    "                \"description\": description,\n",
    "                \"operationId\": http_method+path.replace('/',\"\"),\n",
    "                \"produces\": [\n",
    "                    response_type\n",
    "                ],\n",
    "                \"parameters\": {\n",
    "                    \"in\": \"body\",\n",
    "                    \"name\": \"body\",\n",
    "                    \"description\": \"Placehholder fo description\",\n",
    "                    \"required\": True,\n",
    "                    parameters,\n",
    "                    \"schema\": {\n",
    "                    \"$ref\": \"#/definitions/\"+path.replace('/',\"\")\n",
    "                    }\n",
    "                    }\n",
    "                \"responses\": _response\n",
    "            }\n",
    "        }\n",
    "    }\n",
    "\n",
    "    _schema_return = {path.replace('/',\"\"):{\"type\": \"object\",\n",
    "      \"properties\": {\n",
    "        \"value\": {\n",
    "          \"type\": \"string\"\n",
    "        } # TODO: Hardcoded for now :-(\n",
    "      }}}\n",
    "        \n",
    "\n",
    "\n",
    "    \n",
    " \n",
    "    definitions.append(_schema_return)\n",
    "    tags.append(_tag)\n",
    "    paths.append(_path)\n",
    "\n",
    "\n",
    "    \n",
    "swaggerdict = {\n",
    "    \"swagger\": \"2.0\",\n",
    "    \"info\": {\n",
    "        \"description\": \"This is a placeholder description.\",\n",
    "        \"version\": \"1.0.0\",\n",
    "        \"title\": \"UC2 application\"\n",
    "        },\n",
    "    \"host\": \"0.0.0.0\",\n",
    "    \"tags\": {},\n",
    "    \"paths\": {},\n",
    "    \"definitions\": {}\n",
    "}\n",
    "\n",
    "swaggerdict['paths']=paths\n",
    "swaggerdict['tags']=tags\n",
    "swaggerdict['definitions']=definitions\n",
    "\n",
    "\n",
    "import json\n",
    "with open('openapi.json', 'w') as f:\n",
    "    json.dump(swaggerdict, f, ensure_ascii=False, indent=2, cls=SetEncoder) "
   ]
  },
  {
   "cell_type": "code",
   "execution_count": 92,
   "metadata": {},
   "outputs": [],
   "source": [
    "class SetEncoder(json.JSONEncoder):\n",
    "    def default(self, obj):\n",
    "        if isinstance(obj, set):\n",
    "            return list(obj)\n",
    "        return json.JSONEncoder.default(self, obj)\n",
    "\n",
    "\n",
    "\n",
    "paths = []\n",
    "tags = []\n",
    "definitions = []\n",
    "responses = []\n",
    "\n",
    "for iendpoint in range(converter.N_endpoints):\n",
    "    path = converter.apidefiitions[iendpoint].endpoint['endpoint']\n",
    "    http_method = converter.apidefiitions[iendpoint].endpoint['http_method']\n",
    "    tag = converter.apidefiitions[iendpoint].documentation['tag']\n",
    "    summary = converter.apidefiitions[iendpoint].documentation['summary']\n",
    "    description = converter.apidefiitions[iendpoint].documentation['description']\n",
    "    response_code = converter.apidefiitions[iendpoint].response['response_code']\n",
    "    response_type = converter.apidefiitions[iendpoint].response['response_type']\n",
    "    response_val = converter.apidefiitions[iendpoint].response['response_val']\n",
    "    parameters = converter.apidefiitions[iendpoint].variables['variables']\n",
    "\n",
    "    _tag = {\n",
    "        \"name\": tag,\n",
    "        \"description\": description\n",
    "        }\n",
    "\n",
    "\n",
    "    _response = {response_code: {\n",
    "        \"description\": \"A placeholder for the description\",\n",
    "        \"schema\": {\n",
    "            \"$ref\": \"#/definitions/\"+path.replace('/',\"\")\n",
    "            }}}\n",
    "    \n",
    "    \n",
    "    _path={\n",
    "        path : {\n",
    "            http_method : {\n",
    "                'tags': [\n",
    "                    tag\n",
    "                ],\n",
    "                \"summary\": summary,\n",
    "                \"description\": description,\n",
    "                \"operationId\": http_method+path.replace('/',\"\"),\n",
    "                \"produces\": [\n",
    "                    response_type\n",
    "                ],\n",
    "                \"parameters\": {\n",
    "                    \"in\": \"steps\", #parameters\n",
    "                    \"name\": \"body\",\n",
    "                    \"description\": \"Placehholder fo description\",\n",
    "                    \"required\": True,\n",
    "                    \"schema\": {\n",
    "                    \"$ref\": \"#/definitions/\"+path.replace('/',\"\")\n",
    "                    }\n",
    "                    },\n",
    "                \"responses\": _response\n",
    "            }\n",
    "        }\n",
    "    }\n",
    "\n",
    "    _schema_return = {path.replace('/',\"\"):{\"type\": \"object\",\n",
    "      \"properties\": {\n",
    "        \"value\": {\n",
    "          \"type\": \"string\"\n",
    "        } # TODO: Hardcoded for now :-(\n",
    "      }}}\n",
    "        \n",
    " \n",
    "    definitions.append(_schema_return)\n",
    "    tags.append(_tag)\n",
    "    paths.append(_path)\n",
    "\n",
    "\n",
    "    \n",
    "swaggerdict = {\n",
    "    \"swagger\": \"2.0\",\n",
    "    \"info\": {\n",
    "        \"description\": \"This is a placeholder description.\",\n",
    "        \"version\": \"1.0.0\",\n",
    "        \"title\": \"UC2 application\"\n",
    "        },\n",
    "    \"host\": \"0.0.0.0\",\n",
    "    \"tags\": {},\n",
    "    \"paths\": {},\n",
    "    \"definitions\": {}\n",
    "}\n",
    "\n",
    "swaggerdict['paths']=paths\n",
    "swaggerdict['tags']=tags\n",
    "swaggerdict['definitions']=definitions\n",
    "\n",
    "\n",
    "import json\n",
    "with open('openapi.json', 'w') as f:\n",
    "    json.dump(swaggerdict, f, ensure_ascii=False, indent=2, cls=SetEncoder) "
   ]
  },
  {
   "cell_type": "code",
   "execution_count": 73,
   "metadata": {},
   "outputs": [
    {
     "data": {
      "text/plain": [
       "'200'"
      ]
     },
     "execution_count": 73,
     "metadata": {},
     "output_type": "execute_result"
    }
   ],
   "source": [
    "response_code"
   ]
  },
  {
   "cell_type": "code",
   "execution_count": 89,
   "metadata": {},
   "outputs": [
    {
     "data": {
      "text/plain": [
       "[{'steps': 'int'}, {'speed': 'int'}]"
      ]
     },
     "execution_count": 89,
     "metadata": {},
     "output_type": "execute_result"
    }
   ],
   "source": [
    "parameters"
   ]
  },
  {
   "cell_type": "code",
   "execution_count": null,
   "metadata": {},
   "outputs": [
    {
     "ename": "SyntaxError",
     "evalue": "invalid syntax (2026290670.py, line 55)",
     "output_type": "error",
     "traceback": [
      "\u001b[0;36m  File \u001b[0;32m\"/var/folders/4w/k4yhf14j7xsbp2jd85yk555r0000gn/T/ipykernel_23933/2026290670.py\"\u001b[0;36m, line \u001b[0;32m55\u001b[0m\n",
      "\u001b[0;31m    parameters,\u001b[0m\n",
      "\u001b[0m              ^\u001b[0m\n",
      "\u001b[0;31mSyntaxError\u001b[0m\u001b[0;31m:\u001b[0m invalid syntax\n"
     ]
    }
   ],
   "source": [
    "class SetEncoder(json.JSONEncoder):\n",
    "    def default(self, obj):\n",
    "        if isinstance(obj, set):\n",
    "            return list(obj)\n",
    "        return json.JSONEncoder.default(self, obj)\n",
    "\n",
    "\n",
    "\n",
    "paths = []\n",
    "tags = []\n",
    "definitions = []\n",
    "responses = []\n",
    "\n",
    "for iendpoint in range(converter.N_endpoints):\n",
    "    path = converter.apidefiitions[iendpoint].endpoint['endpoint']\n",
    "    http_method = converter.apidefiitions[iendpoint].endpoint['http_method']\n",
    "    tag = converter.apidefiitions[iendpoint].documentation['tag']\n",
    "    summary = converter.apidefiitions[iendpoint].documentation['summary']\n",
    "    description = converter.apidefiitions[iendpoint].documentation['description']\n",
    "    response_code = converter.apidefiitions[iendpoint].response['response_code']\n",
    "    response_type = converter.apidefiitions[iendpoint].response['response_type']\n",
    "    response_val = converter.apidefiitions[iendpoint].response['response_val']\n",
    "    parameters = converter.apidefiitions[iendpoint].variables['variables']\n",
    "\n",
    "    _tag = {\n",
    "        \"name\": tag,\n",
    "        \"description\": description\n",
    "        }\n",
    "\n",
    "\n",
    "    _response = {response_code: {\n",
    "        \"description\": \"A placeholder for the description\",\n",
    "        \"schema\": {\n",
    "            \"$ref\": \"#/definitions/\"+path.replace('/',\"\")\n",
    "            }}}\n",
    "    \n",
    "    \n",
    "    _path={\n",
    "        path : {\n",
    "            http_method : {\n",
    "                'tags': [\n",
    "                    tag\n",
    "                ],\n",
    "                \"summary\": summary,\n",
    "                \"description\": description,\n",
    "                \"operationId\": http_method+path.replace('/',\"\"),\n",
    "                \"produces\": [\n",
    "                    response_type\n",
    "                ],\n",
    "                \"parameters\": {\n",
    "                    \"in\": \"body\",\n",
    "                    \"name\": \"body\",\n",
    "                    \"description\": \"Placehholder fo description\",\n",
    "                    \"required\": True,\n",
    "                    parameters,\n",
    "                    \"schema\": {\n",
    "                    \"$ref\": \"#/definitions/\"+path.replace('/',\"\")\n",
    "                    }\n",
    "                    }\n",
    "                \"responses\": _response\n",
    "            }\n",
    "        }\n",
    "    }\n",
    "\n",
    "    _schema_return = {path.replace('/',\"\"):{\"type\": \"object\",\n",
    "      \"properties\": {\n",
    "        \"value\": {\n",
    "          \"type\": \"string\"\n",
    "        } # TODO: Hardcoded for now :-(\n",
    "      }}}\n",
    "        \n",
    "\n",
    "\n",
    "    \n",
    " \n",
    "    definitions.append(_schema_return)\n",
    "    tags.append(_tag)\n",
    "    paths.append(_path)\n",
    "\n",
    "\n",
    "    \n",
    "swaggerdict = {\n",
    "    \"swagger\": \"2.0\",\n",
    "    \"info\": {\n",
    "        \"description\": \"This is a placeholder description.\",\n",
    "        \"version\": \"1.0.0\",\n",
    "        \"title\": \"UC2 application\"\n",
    "        },\n",
    "    \"host\": \"0.0.0.0\",\n",
    "    \"tags\": {},\n",
    "    \"paths\": {},\n",
    "    \"definitions\": {}\n",
    "}\n",
    "\n",
    "swaggerdict['paths']=paths\n",
    "swaggerdict['tags']=tags\n",
    "swaggerdict['definitions']=definitions\n",
    "\n",
    "\n",
    "import json\n",
    "with open('openapi.json', 'w') as f:\n",
    "    json.dump(swaggerdict, f, ensure_ascii=False, indent=2, cls=SetEncoder) "
   ]
  },
  {
   "cell_type": "code",
   "execution_count": 67,
   "metadata": {},
   "outputs": [
    {
     "data": {
      "text/plain": [
       "'{\"swagger\": \"2.0\", \"info\": {\"description\": \"This is a placeholder description.\", \"version\": \"1.0.0\", \"title\": \"UC2 application\"}, \"host\": \"0.0.0.0\", \"tags\": [{\"name\": \"Temperature\", \"description\": \"Getting temperature measurements\"}], \"paths\": [{\"  /stepper/move\": {\"get\": {\"tags\": [\" Stepper Motor\"], \"summary\": \" Control a bipolar stepper motor\", \"description\": \" \", \"operationId\": \"get  steppermove\", \"required\": true, \"schema\": {\"$ref\": \"#/definitions/Pet\"}, \"produces\": [\"\\\\\"application/json\\\\\"\"], \"parameters\": [{\"steps\": \"int\"}, {\"speed\": \"int\"}], \"responses\": {\"200\": {\"description\": \"A placeholder for the description\", \"schema\": {\"$ref\": \"#/definitions/temperatureMeasurement\"}}}}}}]}'"
      ]
     },
     "execution_count": 67,
     "metadata": {},
     "output_type": "execute_result"
    }
   ],
   "source": [
    "json.dumps(swaggerdict)"
   ]
  },
  {
   "cell_type": "code",
   "execution_count": null,
   "metadata": {},
   "outputs": [],
   "source": []
  },
  {
   "cell_type": "code",
   "execution_count": null,
   "metadata": {},
   "outputs": [],
   "source": []
  },
  {
   "cell_type": "code",
   "execution_count": null,
   "metadata": {},
   "outputs": [],
   "source": []
  },
  {
   "cell_type": "code",
   "execution_count": null,
   "metadata": {},
   "outputs": [],
   "source": []
  },
  {
   "cell_type": "code",
   "execution_count": 37,
   "metadata": {},
   "outputs": [
    {
     "data": {
      "text/plain": [
       "'200'"
      ]
     },
     "execution_count": 37,
     "metadata": {},
     "output_type": "execute_result"
    }
   ],
   "source": [
    "response_type\n",
    "response_code"
   ]
  },
  {
   "cell_type": "markdown",
   "metadata": {},
   "source": []
  },
  {
   "cell_type": "code",
   "execution_count": null,
   "metadata": {},
   "outputs": [],
   "source": []
  },
  {
   "cell_type": "code",
   "execution_count": 38,
   "metadata": {},
   "outputs": [
    {
     "ename": "NameError",
     "evalue": "name 'fct_codes' is not defined",
     "output_type": "error",
     "traceback": [
      "\u001b[0;31m---------------------------------------------------------------------------\u001b[0m",
      "\u001b[0;31mNameError\u001b[0m                                 Traceback (most recent call last)",
      "\u001b[0;32m/var/folders/4w/k4yhf14j7xsbp2jd85yk555r0000gn/T/ipykernel_23933/4265590500.py\u001b[0m in \u001b[0;36m<module>\u001b[0;34m\u001b[0m\n\u001b[0;32m----> 1\u001b[0;31m \u001b[0mfct_codes\u001b[0m\u001b[0;34m\u001b[0m\u001b[0;34m\u001b[0m\u001b[0m\n\u001b[0m",
      "\u001b[0;31mNameError\u001b[0m: name 'fct_codes' is not defined"
     ]
    }
   ],
   "source": [
    "fct_codes"
   ]
  }
 ],
 "metadata": {
  "interpreter": {
   "hash": "7e0b4c7bcc57fa321d9ed93045b19436fc14ee561979f5319cd55a29d7ed0d86"
  },
  "kernelspec": {
   "display_name": "Python 3.8.12 64-bit ('imswitch': conda)",
   "language": "python",
   "name": "python3"
  },
  "language_info": {
   "codemirror_mode": {
    "name": "ipython",
    "version": 3
   },
   "file_extension": ".py",
   "mimetype": "text/x-python",
   "name": "python",
   "nbconvert_exporter": "python",
   "pygments_lexer": "ipython3",
   "version": "3.8.12"
  },
  "orig_nbformat": 4
 },
 "nbformat": 4,
 "nbformat_minor": 2
}
